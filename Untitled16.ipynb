{
  "nbformat": 4,
  "nbformat_minor": 0,
  "metadata": {
    "colab": {
      "name": "Untitled16.ipynb",
      "provenance": [],
      "authorship_tag": "ABX9TyNj37D5esOwtFlLVCumZEU4",
      "include_colab_link": true
    },
    "kernelspec": {
      "name": "python3",
      "display_name": "Python 3"
    }
  },
  "cells": [
    {
      "cell_type": "markdown",
      "metadata": {
        "id": "view-in-github",
        "colab_type": "text"
      },
      "source": [
        "<a href=\"https://colab.research.google.com/github/19PA1A0569/VITBML-EDA1/blob/master/Untitled16.ipynb\" target=\"_parent\"><img src=\"https://colab.research.google.com/assets/colab-badge.svg\" alt=\"Open In Colab\"/></a>"
      ]
    },
    {
      "cell_type": "code",
      "metadata": {
        "id": "3gQcPWoBeswk",
        "colab_type": "code",
        "colab": {}
      },
      "source": [
        "\n",
        "import pandas as pd \n",
        "import numpy as np \n",
        "import matplotlib.pyplot as plt \n"
      ],
      "execution_count": 0,
      "outputs": []
    },
    {
      "cell_type": "code",
      "metadata": {
        "id": "jCGD_iL3gvUE",
        "colab_type": "code",
        "colab": {}
      },
      "source": [
        "\n",
        "dataset = pd.read_csv('/content/pima-indians-diabetes-database-2.zip')\n"
      ],
      "execution_count": 0,
      "outputs": []
    },
    {
      "cell_type": "code",
      "metadata": {
        "id": "KAS3HOVDy8nr",
        "colab_type": "code",
        "colab": {
          "base_uri": "https://localhost:8080/",
          "height": 72
        },
        "outputId": "7943e6ea-33ee-46d6-b3a4-1e567744b485"
      },
      "source": [
        "dataset.columns"
      ],
      "execution_count": 84,
      "outputs": [
        {
          "output_type": "execute_result",
          "data": {
            "text/plain": [
              "Index(['Pregnancies', 'Glucose', 'BloodPressure', 'SkinThickness', 'Insulin',\n",
              "       'BMI', 'DiabetesPedigreeFunction', 'Age', 'Outcome'],\n",
              "      dtype='object')"
            ]
          },
          "metadata": {
            "tags": []
          },
          "execution_count": 84
        }
      ]
    },
    {
      "cell_type": "code",
      "metadata": {
        "id": "gqnPHOPihXln",
        "colab_type": "code",
        "colab": {}
      },
      "source": [
        "\n",
        "# input \n",
        "x = dataset.iloc[:, [2, 3]].values \n",
        "  \n",
        "# output \n",
        "y = dataset.iloc[:, 4].values \n"
      ],
      "execution_count": 0,
      "outputs": []
    },
    {
      "cell_type": "code",
      "metadata": {
        "id": "Hna9UZzUhfDK",
        "colab_type": "code",
        "colab": {
          "base_uri": "https://localhost:8080/",
          "height": 146
        },
        "outputId": "7e31e5f8-96cf-4e58-be83-a9d85b1b9fcd"
      },
      "source": [
        "x"
      ],
      "execution_count": 86,
      "outputs": [
        {
          "output_type": "execute_result",
          "data": {
            "text/plain": [
              "array([[72, 35],\n",
              "       [66, 29],\n",
              "       [64,  0],\n",
              "       ...,\n",
              "       [72, 23],\n",
              "       [60,  0],\n",
              "       [70, 31]])"
            ]
          },
          "metadata": {
            "tags": []
          },
          "execution_count": 86
        }
      ]
    },
    {
      "cell_type": "code",
      "metadata": {
        "id": "nfK56xpYhher",
        "colab_type": "code",
        "colab": {
          "base_uri": "https://localhost:8080/",
          "height": 1000
        },
        "outputId": "7782e5fa-05ae-442b-a524-a5cc55e63d1a"
      },
      "source": [
        "y"
      ],
      "execution_count": 87,
      "outputs": [
        {
          "output_type": "execute_result",
          "data": {
            "text/plain": [
              "array([  0,   0,   0,  94, 168,   0,  88,   0, 543,   0,   0,   0,   0,\n",
              "       846, 175,   0, 230,   0,  83,  96, 235,   0,   0,   0, 146, 115,\n",
              "         0, 140, 110,   0,   0, 245,  54,   0,   0, 192,   0,   0,   0,\n",
              "       207,  70,   0,   0, 240,   0,   0,   0,   0,   0,   0,  82,  36,\n",
              "        23, 300, 342,   0, 304, 110,   0, 142,   0,   0,   0, 128,   0,\n",
              "         0,   0,   0,  38, 100,  90, 140,   0, 270,   0,   0,   0,   0,\n",
              "         0,   0,   0,   0,  71,   0,   0, 125,   0,  71, 110,   0,   0,\n",
              "       176,  48,   0,  64, 228,   0,  76,  64, 220,   0,   0,   0,  40,\n",
              "         0, 152,   0, 140,  18,  36, 135, 495,  37,   0, 175,   0,   0,\n",
              "         0,   0,  51, 100,   0, 100,   0,   0,  99, 135,  94, 145,   0,\n",
              "       168,   0, 225,   0,  49, 140,  50,  92,   0, 325,   0,   0,  63,\n",
              "         0, 284,   0,   0, 119,   0,   0, 204,   0, 155, 485,   0,   0,\n",
              "        94, 135,  53, 114,   0, 105, 285,   0,   0, 156,   0,   0,   0,\n",
              "        78,   0, 130,   0,  48,  55, 130,   0, 130,   0,   0,   0,  92,\n",
              "        23,   0,   0,   0, 495,  58, 114, 160,   0,  94,   0,   0,   0,\n",
              "       210,   0,  48,  99, 318,   0,   0,   0,  44, 190,   0, 280,   0,\n",
              "        87,   0,   0,   0,   0, 130, 175, 271, 129, 120,   0,   0, 478,\n",
              "         0,   0, 190,  56,  32,   0,   0, 744,  53,   0, 370,  37,   0,\n",
              "        45,   0, 192,   0,   0,   0,   0,  88,   0, 176, 194,   0,   0,\n",
              "       680, 402,   0,   0,   0,  55,   0, 258,   0,   0,   0, 375, 150,\n",
              "       130,   0,   0,   0,   0,  67,   0,   0,   0,   0,   0,  56,   0,\n",
              "        45,   0,  57,   0, 116,   0, 278,   0, 122, 155,   0,   0, 135,\n",
              "       545, 220,  49,  75,  40,  74, 182, 194,   0, 120, 360, 215, 184,\n",
              "         0,   0, 135,  42,   0,   0, 105, 132, 148, 180, 205,   0, 148,\n",
              "        96,  85,   0,  94,  64,   0, 140,   0, 231,   0,   0,  29,   0,\n",
              "       168, 156,   0, 120,  68,   0,  52,   0,   0,  58, 255,   0,   0,\n",
              "       171,   0, 105,  73,   0,   0,   0, 108,  83,   0,  74,   0,   0,\n",
              "         0,   0,  43,   0,   0, 167,   0,  54, 249, 325,   0,   0,   0,\n",
              "       293,  83,   0,   0,  66, 140, 465,  89,  66,  94, 158, 325,  84,\n",
              "        75,   0,  72,  82,   0, 182,  59, 110,  50,   0,   0, 285,  81,\n",
              "       196,   0, 415,  87,   0, 275, 115,   0,   0,   0,   0,   0,  88,\n",
              "         0,   0, 165,   0,   0,   0, 579,   0, 176, 310,  61, 167, 474,\n",
              "         0,   0,   0, 115, 170,  76,  78,   0, 210, 277,   0, 180, 145,\n",
              "       180,   0,  85,  60,   0,   0,   0,   0,   0,   0,   0,   0,  50,\n",
              "       120,   0,   0,  14,  70,  92,  64,  63,  95,   0, 210,   0, 105,\n",
              "         0,   0,  71, 237,  60,  56,   0,  49,   0,   0, 105,  36, 100,\n",
              "         0, 140,   0,   0,   0,   0,   0,   0, 191, 110,  75,   0, 328,\n",
              "         0,  49, 125,   0, 250, 480, 265,   0,   0,  66,   0,   0, 122,\n",
              "         0,   0,   0,  76, 145, 193,  71,   0,   0,  79,   0,   0,  90,\n",
              "       170,  76,   0,   0, 210,   0,   0,  86, 105, 165,   0,   0, 326,\n",
              "        66, 130,   0,   0,   0,   0,  82, 105, 188,   0, 106,   0,  65,\n",
              "         0,  56,   0,   0,   0, 210, 155, 215, 190,   0,  56,  76, 225,\n",
              "       207, 166,  67,   0,   0, 106,   0,  44, 115, 215,   0,   0,   0,\n",
              "         0,   0, 274,  77,  54,   0,  88,  18, 126, 126, 165,   0,   0,\n",
              "        44, 120, 330,  63, 130,   0,   0,   0,   0,   0,   0,   0, 600,\n",
              "         0,   0,   0, 156,   0,   0, 140,   0, 115, 230, 185,   0,  25,\n",
              "         0, 120,   0,   0,   0, 126,   0,   0, 293,  41, 272, 182, 158,\n",
              "       194, 321,   0, 144,   0,   0,  15,   0,   0, 160,   0,   0, 115,\n",
              "         0,  54,   0,   0,   0,   0,   0,  90,   0, 183,   0,   0,   0,\n",
              "        66,  91,  46, 105,   0,   0,   0, 152, 440, 144, 159, 130,   0,\n",
              "       100, 106,  77,   0, 135, 540,  90, 200,   0,  70,   0,   0, 231,\n",
              "       130,   0, 132,   0,   0, 190, 100, 168,   0,  49, 240,   0,   0,\n",
              "         0,   0,   0, 265,  45,   0, 105,   0,   0, 205,   0,   0, 180,\n",
              "       180,   0,   0,  95, 125,   0, 480, 125,   0, 155,   0, 200,   0,\n",
              "         0,   0, 100,   0,   0, 335,   0, 160, 387,  22,   0, 291,   0,\n",
              "       392, 185,   0, 178,   0,   0, 200, 127, 105,   0,   0, 180,   0,\n",
              "         0,   0,  79,   0, 120, 165,   0,   0, 120,   0, 160,   0, 150,\n",
              "        94, 116,   0, 140, 105,   0,  57, 200,   0,   0,  74,   0, 510,\n",
              "         0, 110,   0,   0,   0,   0,  16,   0,   0, 180,   0, 112,   0,\n",
              "         0])"
            ]
          },
          "metadata": {
            "tags": []
          },
          "execution_count": 87
        }
      ]
    },
    {
      "cell_type": "code",
      "metadata": {
        "id": "DhBGprp0hn4n",
        "colab_type": "code",
        "colab": {}
      },
      "source": [
        "\n",
        "from sklearn.model_selection import train_test_split \n",
        "x_train, x_test, y_train, y_test = train_test_split(x, y, test_size = 0.25, random_state = 0) \n"
      ],
      "execution_count": 0,
      "outputs": []
    },
    {
      "cell_type": "code",
      "metadata": {
        "id": "4QWFk366melV",
        "colab_type": "code",
        "colab": {}
      },
      "source": [
        ""
      ],
      "execution_count": 0,
      "outputs": []
    },
    {
      "cell_type": "code",
      "metadata": {
        "id": "kw0k5-REiXB8",
        "colab_type": "code",
        "colab": {
          "base_uri": "https://localhost:8080/",
          "height": 146
        },
        "outputId": "258c573f-efa9-4fc8-9993-3734afe8fc8b"
      },
      "source": [
        "x_train\n"
      ],
      "execution_count": 89,
      "outputs": [
        {
          "output_type": "execute_result",
          "data": {
            "text/plain": [
              "array([[62,  0],\n",
              "       [58, 36],\n",
              "       [80,  0],\n",
              "       ...,\n",
              "       [65, 22],\n",
              "       [74,  0],\n",
              "       [82,  0]])"
            ]
          },
          "metadata": {
            "tags": []
          },
          "execution_count": 89
        }
      ]
    },
    {
      "cell_type": "code",
      "metadata": {
        "id": "VaVKxEt9lJxJ",
        "colab_type": "code",
        "colab": {
          "base_uri": "https://localhost:8080/",
          "height": 293
        },
        "outputId": "c2676623-58aa-42ac-973f-f1830733d1f6"
      },
      "source": [
        "y_test"
      ],
      "execution_count": 90,
      "outputs": [
        {
          "output_type": "execute_result",
          "data": {
            "text/plain": [
              "array([  0, 100,   0, 175,   0,  40, 171, 156, 275, 190, 245, 207,   0,\n",
              "       115,   0,   0, 130,   0,   0,  83,   0,   0,   0,   0, 140,   0,\n",
              "         0, 140,   0,   0, 135,  78, 105, 158,  50,   0, 130,  71,  63,\n",
              "        70,  92,   0,  54,   0, 543,   0,  56, 115,  99,   0,   0,  63,\n",
              "       271,   0, 210,   0,   0,   0,   0,   0, 231, 293,   0,   0,   0,\n",
              "         0,   0,   0,   0,   0,   0,   0,   0,   0,   0,   0,  49, 193,\n",
              "         0,   0,   0, 204, 125,  82,   0,   0,   0,  83, 192, 115,   0,\n",
              "         0,  85,  82,  67,  44,  91, 272, 207,   0, 285,  94,   0,  38,\n",
              "         0,   0, 120,   0,  64,   0,  16, 175,   0,  58, 474,   0, 278,\n",
              "       375,   0, 150,   0,   0, 140,   0,  61,   0, 155,   0,   0,   0,\n",
              "       140,   0,   0, 579,  79,   0,   0,   0,   0,   0,  52, 126,   0,\n",
              "         0,   0,   0,  23,   0,   0, 191,  49,   0, 105,  82, 126,   0,\n",
              "       680, 135,   0,   0, 132,   0,  76, 106,   0,   0,   0,   0,   0,\n",
              "         0,  25,  49,   0,   0,   0,  88,   0,  42, 100,   0,   0,   0,\n",
              "        66,   0,   0,   0,   0,   0, 135, 182,   0,   0])"
            ]
          },
          "metadata": {
            "tags": []
          },
          "execution_count": 90
        }
      ]
    },
    {
      "cell_type": "code",
      "metadata": {
        "id": "9ockCjj1jCkA",
        "colab_type": "code",
        "colab": {
          "base_uri": "https://localhost:8080/",
          "height": 844
        },
        "outputId": "60e8668d-8f9c-4538-d564-f20d7f0f58f0"
      },
      "source": [
        "y_train"
      ],
      "execution_count": 91,
      "outputs": [
        {
          "output_type": "execute_result",
          "data": {
            "text/plain": [
              "array([  0,  94,   0, 325, 130, 284,   0,   0, 182, 210, 192,   0,   0,\n",
              "        56,   0,  18,  96, 105,  36,  44,   0,   0,  94,  48, 176,   0,\n",
              "         0,   0,   0,   0, 110, 370,   0,   0, 156, 114,  58,   0,   0,\n",
              "         0,   0,   0,   0,   0,   0,   0, 196,   0,  54,   0,   0,   0,\n",
              "       126, 215,  54,   0, 105, 387,   0,   0,  55, 194,   0, 114,  22,\n",
              "       105,  92,  53,   0,   0, 100, 200,   0,  45,   0,   0,   0,  88,\n",
              "         0,  66,   0,   0,  88,   0,   0,   0,   0,   0,   0, 125,  77,\n",
              "         0,  81,   0,   0, 125,   0,   0, 225,   0,  48,   0,  94,   0,\n",
              "       280,  50,   0, 200,   0,   0,   0,   0,   0,   0,   0, 130,  79,\n",
              "        60, 140,   0,   0, 190, 110,   0,  18, 130,   0, 167,   0,  75,\n",
              "        36,  99, 105,   0, 310, 160,  56,   0, 325, 144,   0,  83,  94,\n",
              "        49, 168,   0, 495,   0, 120,   0, 145,   0, 180,  32,   0,   0,\n",
              "       277,   0, 140, 480, 130,   0,  76, 165, 250, 415, 130,  37, 200,\n",
              "       240, 235,   0, 184, 135, 150, 165,   0,   0,   0,  92,   0,   0,\n",
              "         0,   0, 205,  66,  65,   0,   0,  43,  56, 485, 342,   0, 210,\n",
              "       105,   0, 265,  90,   0,   0, 132, 304,   0,   0,   0,   0,   0,\n",
              "         0, 237,  87,   0,  90,  63,   0,   0,   0,   0,   0,   0, 127,\n",
              "         0, 100,   0,   0,   0,   0, 142, 122,   0, 185,   0,   0,   0,\n",
              "       148, 180,   0,  53,  36, 392,   0,   0,   0,  71,   0,   0,   0,\n",
              "       180,   0, 155, 274,  74, 326, 168,   0,   0,   0, 265,   0,   0,\n",
              "         0,   0, 140,   0,   0, 205,   0,  95,   0,   0,   0,   0, 120,\n",
              "       122, 170, 478, 125, 231,   0,  66, 100,   0,  74, 846,   0,   0,\n",
              "       116,   0,   0,  57,   0,  72,   0, 210,   0, 225,   0, 210,  94,\n",
              "         0, 600, 112,   0,   0, 230, 128,   0, 110,   0, 152,   0,   0,\n",
              "         0,  68,   0, 328, 145, 108, 190, 165,   0,   0,   0,   0, 159,\n",
              "        90, 167,   0,   0,   0,   0,   0, 100,  86,   0, 105,   0, 291,\n",
              "         0,  75,   0, 175,  76,   0,   0,   0,   0,  84,   0, 100, 135,\n",
              "         0, 160,  50,  70, 152, 258,   0,  40, 200,   0,  37,   0, 110,\n",
              "         0,  73,   0, 165, 318, 180, 120,   0, 215, 270,  87, 166, 190,\n",
              "       540,   0, 440, 120, 155,   0,  76,   0,   0, 144,   0,   0,   0,\n",
              "        45,   0, 146,   0, 129,   0,   0, 495,   0,   0,   0,   0,   0,\n",
              "       106, 140, 321,   0, 220, 140, 156,   0, 170, 744, 185,  14,   0,\n",
              "         0, 115, 135,   0, 155, 188,   0,   0, 325, 130,  29, 180, 402,\n",
              "        95,   0,  41,  96, 120, 360,   0,   0,  64, 105,   0, 545,   0,\n",
              "       180,   0,   0,  89, 168,   0,  57,   0,  23,  54,   0, 148,   0,\n",
              "       240,   0,   0,   0,   0, 176,  77,   0,   0, 230,   0, 330,  64,\n",
              "        75, 168,   0,   0, 215, 465,   0,  59,   0,  66, 115, 158,   0,\n",
              "       182,   0, 293,  48, 228, 160,   0,  78,   0, 105,   0,  94,   0,\n",
              "         0,   0,   0,   0,   0,   0,   0,  44,   0, 183,  88, 194,   0,\n",
              "       176,  71,   0,  51,  74, 110,   0,   0,   0, 120,   0,  15, 285,\n",
              "       255,  45,   0,   0, 300, 178, 145, 110,   0,  60,   0,   0,   0,\n",
              "       194,   0,  56,  76,  46,   0,  67,  49,   0, 119,  70, 130, 220,\n",
              "        64,  85, 160,   0,   0,   0,   0, 510,  55,  71, 106, 480,   0,\n",
              "         0, 115,   0,   0,  90, 120,   0, 116, 105,   0, 249, 335, 180,\n",
              "         0,   0,   0,   0])"
            ]
          },
          "metadata": {
            "tags": []
          },
          "execution_count": 91
        }
      ]
    },
    {
      "cell_type": "code",
      "metadata": {
        "id": "_henwpXAl2N-",
        "colab_type": "code",
        "colab": {
          "base_uri": "https://localhost:8080/",
          "height": 1000
        },
        "outputId": "443a6951-18ff-4d41-d481-52e002002d67"
      },
      "source": [
        "x_test"
      ],
      "execution_count": 92,
      "outputs": [
        {
          "output_type": "execute_result",
          "data": {
            "text/plain": [
              "array([[ 76,  43],\n",
              "       [ 74,  30],\n",
              "       [ 62,   0],\n",
              "       [ 72,  19],\n",
              "       [ 65,   0],\n",
              "       [ 72,  18],\n",
              "       [ 78,  34],\n",
              "       [ 86,  27],\n",
              "       [ 58,  24],\n",
              "       [ 72,  32],\n",
              "       [ 76,  36],\n",
              "       [ 76,  27],\n",
              "       [ 74,   0],\n",
              "       [ 52,  22],\n",
              "       [ 72,  23],\n",
              "       [ 68,  20],\n",
              "       [ 72,  42],\n",
              "       [ 50,  10],\n",
              "       [ 86,  31],\n",
              "       [ 54,  28],\n",
              "       [ 82,  32],\n",
              "       [ 80,   0],\n",
              "       [  0,  23],\n",
              "       [ 82,  28],\n",
              "       [ 66,  15],\n",
              "       [ 60,  32],\n",
              "       [ 76,   0],\n",
              "       [ 88,  37],\n",
              "       [ 66,  22],\n",
              "       [ 68,   0],\n",
              "       [ 74,  26],\n",
              "       [ 64,  46],\n",
              "       [ 86,  17],\n",
              "       [ 52,  43],\n",
              "       [ 54,  13],\n",
              "       [ 64,   0],\n",
              "       [ 84,  35],\n",
              "       [ 90,  19],\n",
              "       [ 44,  47],\n",
              "       [ 64,  25],\n",
              "       [ 64,  18],\n",
              "       [ 78,   0],\n",
              "       [ 60,  19],\n",
              "       [ 70,  31],\n",
              "       [ 70,  45],\n",
              "       [ 75,  23],\n",
              "       [ 62,  32],\n",
              "       [ 64,  29],\n",
              "       [ 64,  44],\n",
              "       [ 80,   0],\n",
              "       [ 68,   0],\n",
              "       [ 52,  26],\n",
              "       [ 70,  40],\n",
              "       [ 90,  41],\n",
              "       [ 68,  32],\n",
              "       [ 48,  20],\n",
              "       [ 66,  29],\n",
              "       [ 98,   0],\n",
              "       [ 70,   0],\n",
              "       [  0,   0],\n",
              "       [106,  46],\n",
              "       [ 74,  25],\n",
              "       [ 68,   0],\n",
              "       [  0,   0],\n",
              "       [ 74,   0],\n",
              "       [ 74,   0],\n",
              "       [ 88,   0],\n",
              "       [ 78,   0],\n",
              "       [ 52,   0],\n",
              "       [ 78,  25],\n",
              "       [ 64,   0],\n",
              "       [  0,   0],\n",
              "       [ 68,  32],\n",
              "       [ 94,   0],\n",
              "       [ 72,   0],\n",
              "       [ 84,   0],\n",
              "       [106,  23],\n",
              "       [ 74,  32],\n",
              "       [ 86,  19],\n",
              "       [ 70,  40],\n",
              "       [ 76,   0],\n",
              "       [ 74,  50],\n",
              "       [ 74,  29],\n",
              "       [ 64,  19],\n",
              "       [ 60,  32],\n",
              "       [ 80,   0],\n",
              "       [ 54,   0],\n",
              "       [ 30,  38],\n",
              "       [ 84,  21],\n",
              "       [ 70,  27],\n",
              "       [ 74,  36],\n",
              "       [ 84,   0],\n",
              "       [ 50,  10],\n",
              "       [ 80,  11],\n",
              "       [ 82,  43],\n",
              "       [ 58,  31],\n",
              "       [ 76,  32],\n",
              "       [ 82,  39],\n",
              "       [ 72,  47],\n",
              "       [ 72,   0],\n",
              "       [ 80,  34],\n",
              "       [ 52,  15],\n",
              "       [ 92,   0],\n",
              "       [ 66,  13],\n",
              "       [ 64,  42],\n",
              "       [ 70,   0],\n",
              "       [ 86,  27],\n",
              "       [ 70,  38],\n",
              "       [ 80,  11],\n",
              "       [ 64,   0],\n",
              "       [ 58,  26],\n",
              "       [ 82,  32],\n",
              "       [ 66,   0],\n",
              "       [ 98,  41],\n",
              "       [ 84,  33],\n",
              "       [ 86,   0],\n",
              "       [ 62,  10],\n",
              "       [ 50,  16],\n",
              "       [ 86,  19],\n",
              "       [ 80,  37],\n",
              "       [ 78,  40],\n",
              "       [108,  37],\n",
              "       [ 66,  39],\n",
              "       [ 78,  17],\n",
              "       [ 74,  22],\n",
              "       [ 60,   0],\n",
              "       [ 88,  11],\n",
              "       [ 74,  29],\n",
              "       [ 54,   0],\n",
              "       [ 88,   0],\n",
              "       [ 64,  35],\n",
              "       [  0,   0],\n",
              "       [ 60,  22],\n",
              "       [ 68,  49],\n",
              "       [ 64,  25],\n",
              "       [ 76,  37],\n",
              "       [ 50,  19],\n",
              "       [ 66,  32],\n",
              "       [  0,   0],\n",
              "       [ 54,   0],\n",
              "       [ 58,  16],\n",
              "       [ 72,  29],\n",
              "       [ 58,   0],\n",
              "       [ 78,   0],\n",
              "       [ 66,   0],\n",
              "       [ 58,  10],\n",
              "       [ 66,  21],\n",
              "       [ 66,  30],\n",
              "       [ 68,  21],\n",
              "       [ 80,  45],\n",
              "       [ 58,  22],\n",
              "       [ 86,   0],\n",
              "       [ 74,  15],\n",
              "       [ 72,  30],\n",
              "       [ 78,  29],\n",
              "       [ 60,  23],\n",
              "       [ 90,  33],\n",
              "       [ 56,  21],\n",
              "       [  0,   0],\n",
              "       [  0,   0],\n",
              "       [ 68,  23],\n",
              "       [ 78,   0],\n",
              "       [ 48,  18],\n",
              "       [ 60,  18],\n",
              "       [ 70,   0],\n",
              "       [  0,   0],\n",
              "       [ 60,   0],\n",
              "       [ 60,   0],\n",
              "       [ 58,   0],\n",
              "       [ 90,   0],\n",
              "       [ 24,  19],\n",
              "       [ 70,  40],\n",
              "       [ 74,   0],\n",
              "       [ 74,   0],\n",
              "       [ 80,  15],\n",
              "       [ 70,  32],\n",
              "       [ 72,   0],\n",
              "       [ 82,  41],\n",
              "       [ 76,  20],\n",
              "       [ 64,  24],\n",
              "       [ 82,   0],\n",
              "       [114,   0],\n",
              "       [ 65,  28],\n",
              "       [ 66,  39],\n",
              "       [ 70,   0],\n",
              "       [ 62,   0],\n",
              "       [  0,   0],\n",
              "       [ 72,   0],\n",
              "       [ 58,  33],\n",
              "       [ 60,   8],\n",
              "       [ 78,   0],\n",
              "       [ 78,  30]])"
            ]
          },
          "metadata": {
            "tags": []
          },
          "execution_count": 92
        }
      ]
    },
    {
      "cell_type": "code",
      "metadata": {
        "id": "MLXPgzhpjA-0",
        "colab_type": "code",
        "colab": {
          "base_uri": "https://localhost:8080/",
          "height": 256
        },
        "outputId": "63de4a4b-bf33-4c20-e842-5d6b42e99a31"
      },
      "source": [
        "\n",
        "from sklearn.linear_model import LogisticRegression \n",
        "classifier = LogisticRegression(random_state = 0) \n",
        "classifier.fit(x_train, y_train) \n"
      ],
      "execution_count": 94,
      "outputs": [
        {
          "output_type": "stream",
          "text": [
            "/usr/local/lib/python3.6/dist-packages/sklearn/linear_model/_logistic.py:940: ConvergenceWarning: lbfgs failed to converge (status=1):\n",
            "STOP: TOTAL NO. of ITERATIONS REACHED LIMIT.\n",
            "\n",
            "Increase the number of iterations (max_iter) or scale the data as shown in:\n",
            "    https://scikit-learn.org/stable/modules/preprocessing.html\n",
            "Please also refer to the documentation for alternative solver options:\n",
            "    https://scikit-learn.org/stable/modules/linear_model.html#logistic-regression\n",
            "  extra_warning_msg=_LOGISTIC_SOLVER_CONVERGENCE_MSG)\n"
          ],
          "name": "stderr"
        },
        {
          "output_type": "execute_result",
          "data": {
            "text/plain": [
              "LogisticRegression(C=1.0, class_weight=None, dual=False, fit_intercept=True,\n",
              "                   intercept_scaling=1, l1_ratio=None, max_iter=100,\n",
              "                   multi_class='auto', n_jobs=None, penalty='l2',\n",
              "                   random_state=0, solver='lbfgs', tol=0.0001, verbose=0,\n",
              "                   warm_start=False)"
            ]
          },
          "metadata": {
            "tags": []
          },
          "execution_count": 94
        }
      ]
    },
    {
      "cell_type": "code",
      "metadata": {
        "id": "VG3-FPfejUna",
        "colab_type": "code",
        "colab": {}
      },
      "source": [
        "\n",
        "y_pred = classifier.predict(x_test) \n"
      ],
      "execution_count": 0,
      "outputs": []
    },
    {
      "cell_type": "code",
      "metadata": {
        "id": "4YDY835Zjcrg",
        "colab_type": "code",
        "colab": {}
      },
      "source": [
        ""
      ],
      "execution_count": 0,
      "outputs": []
    },
    {
      "cell_type": "markdown",
      "metadata": {
        "id": "V_SLYLEnjhjq",
        "colab_type": "text"
      },
      "source": [
        "Let’s test the performance of our model – Confusion Matrix"
      ]
    },
    {
      "cell_type": "code",
      "metadata": {
        "id": "wWNkamKcjjM0",
        "colab_type": "code",
        "colab": {
          "base_uri": "https://localhost:8080/",
          "height": 164
        },
        "outputId": "49dfcc44-b1a2-41ae-910d-75aca8af6d9e"
      },
      "source": [
        "\n",
        "from sklearn.metrics import confusion_matrix \n",
        "cm = confusion_matrix(y_test, y_pred) \n",
        "  \n",
        "print (\"Confusion Matrix : \\n\", cm) \n"
      ],
      "execution_count": 97,
      "outputs": [
        {
          "output_type": "stream",
          "text": [
            "Confusion Matrix : \n",
            " [[102   0   0 ...   0   0   0]\n",
            " [  0   0   0 ...   0   0   0]\n",
            " [  1   0   0 ...   0   0   0]\n",
            " ...\n",
            " [  0   0   0 ...   0   0   0]\n",
            " [  0   0   0 ...   0   0   0]\n",
            " [  1   0   0 ...   0   0   0]]\n"
          ],
          "name": "stdout"
        }
      ]
    },
    {
      "cell_type": "markdown",
      "metadata": {
        "id": "3yrdzdgv4xp_",
        "colab_type": "text"
      },
      "source": [
        "Accuracy"
      ]
    },
    {
      "cell_type": "code",
      "metadata": {
        "id": "3jwTomMMjrd9",
        "colab_type": "code",
        "colab": {
          "base_uri": "https://localhost:8080/",
          "height": 35
        },
        "outputId": "364ba3fc-2c71-420b-f4d2-082a88566198"
      },
      "source": [
        "\n",
        "from sklearn.metrics import accuracy_score \n",
        "print (\"Accuracy : \", accuracy_score(y_test, y_pred)) \n"
      ],
      "execution_count": 98,
      "outputs": [
        {
          "output_type": "stream",
          "text": [
            "Accuracy :  0.53125\n"
          ],
          "name": "stdout"
        }
      ]
    },
    {
      "cell_type": "markdown",
      "metadata": {
        "id": "zpvOC2aK0h4z",
        "colab_type": "text"
      },
      "source": [
        "KNN"
      ]
    },
    {
      "cell_type": "code",
      "metadata": {
        "id": "R3IeXfqcoKtb",
        "colab_type": "code",
        "colab": {
          "base_uri": "https://localhost:8080/",
          "height": 35
        },
        "outputId": "15eedb45-057c-4586-a3fb-1d535ac14c58"
      },
      "source": [
        "\n",
        "# Import necessary modules \n",
        "from sklearn.neighbors import KNeighborsClassifier \n",
        "from sklearn.model_selection import train_test_split \n",
        "from sklearn.datasets import load_iris \n",
        "  \n",
        "# Loading data \n",
        "irisData = load_iris() \n",
        "  \n",
        "# Create feature and target arrays \n",
        "X = irisData.data \n",
        "y = irisData.target \n",
        "  \n",
        "# Split into training and test set \n",
        "X_train, X_test, y_train, y_test = train_test_split( \n",
        "             X, y, test_size = 0.2, random_state=42) \n",
        "  \n",
        "knn = KNeighborsClassifier(n_neighbors=7) \n",
        "  \n",
        "knn.fit(X_train, y_train) \n",
        "  \n",
        "# Predict on dataset which model has not seen before \n",
        "print(knn.predict(X_test)) \n"
      ],
      "execution_count": 102,
      "outputs": [
        {
          "output_type": "stream",
          "text": [
            "[1 0 2 1 1 0 1 2 2 1 2 0 0 0 0 1 2 1 1 2 0 2 0 2 2 2 2 2 0 0]\n"
          ],
          "name": "stdout"
        }
      ]
    },
    {
      "cell_type": "markdown",
      "metadata": {
        "id": "OjkyxRoz447P",
        "colab_type": "text"
      },
      "source": [
        "Accuracy"
      ]
    },
    {
      "cell_type": "code",
      "metadata": {
        "id": "gj1tL2KpoY3u",
        "colab_type": "code",
        "colab": {
          "base_uri": "https://localhost:8080/",
          "height": 35
        },
        "outputId": "7a057576-ed4e-4878-d8d1-84fc956fcb6b"
      },
      "source": [
        "\n",
        "\n",
        "# Import necessary modules \n",
        "from sklearn.neighbors import KNeighborsClassifier \n",
        "from sklearn.model_selection import train_test_split \n",
        "from sklearn.datasets import load_iris \n",
        "  \n",
        "# Loading data \n",
        "irisData = load_iris() \n",
        "  \n",
        "# Create feature and target arrays \n",
        "X = irisData.data \n",
        "y = irisData.target \n",
        "  \n",
        "# Split into training and test set \n",
        "X_train, X_test, y_train, y_test = train_test_split( \n",
        "             X, y, test_size = 0.2, random_state=42) \n",
        "  \n",
        "knn = KNeighborsClassifier(n_neighbors=7) \n",
        "  \n",
        "knn.fit(X_train, y_train) \n",
        "  \n",
        "# Calculate the accuracy of the model \n",
        "print(knn.score(X_test, y_test)) \n"
      ],
      "execution_count": 103,
      "outputs": [
        {
          "output_type": "stream",
          "text": [
            "0.9666666666666667\n"
          ],
          "name": "stdout"
        }
      ]
    },
    {
      "cell_type": "code",
      "metadata": {
        "id": "Mlp-lgWp0qnU",
        "colab_type": "code",
        "colab": {}
      },
      "source": [
        ""
      ],
      "execution_count": 0,
      "outputs": []
    },
    {
      "cell_type": "code",
      "metadata": {
        "id": "Ev3cHw56o6KR",
        "colab_type": "code",
        "colab": {
          "base_uri": "https://localhost:8080/",
          "height": 285
        },
        "outputId": "dbe96361-8a4b-457e-81a5-4418a5b042ba"
      },
      "source": [
        "\n",
        "# Import necessary modules \n",
        "from sklearn.neighbors import KNeighborsClassifier \n",
        "from sklearn.model_selection import train_test_split \n",
        "from sklearn.datasets import load_iris \n",
        "import numpy as np \n",
        "import matplotlib.pyplot as plt \n",
        "dataset = load_iris() \n",
        "# Create feature and target arrays \n",
        "X = dataset.data \n",
        "y = dataset.target \n",
        "  \n",
        "# Split into training and test set \n",
        "X_train, X_test, y_train, y_test = train_test_split( \n",
        "             X, y, test_size = 0.2, random_state=42) \n",
        "  \n",
        "neighbors = np.arange(1, 9) \n",
        "train_accuracy = np.empty(len(neighbors)) \n",
        "test_accuracy = np.empty(len(neighbors)) \n",
        "  \n",
        "# Loop over K values \n",
        "for i, k in enumerate(neighbors): \n",
        "    knn = KNeighborsClassifier(n_neighbors=k) \n",
        "    knn.fit(X_train, y_train) \n",
        "      \n",
        "    # Compute traning and test data accuracy \n",
        "    train_accuracy[i] = knn.score(X_train, y_train) \n",
        "    test_accuracy[i] = knn.score(X_test, y_test) \n",
        "  \n",
        "# Generate plot \n",
        "plt.plot(neighbors, test_accuracy, label = 'Testing dataset Accuracy') \n",
        "plt.plot(neighbors, train_accuracy, label = 'Training dataset Accuracy') \n",
        "  \n",
        "plt.legend() \n",
        "plt.xlabel('Age') \n",
        "plt.ylabel('outcome') \n",
        "plt.show() \n"
      ],
      "execution_count": 104,
      "outputs": [
        {
          "output_type": "display_data",
          "data": {
            "image/png": "[encoded data removed]",
            "text/plain": [
              "<Figure size 432x288 with 1 Axes>"
            ]
          },
          "metadata": {
            "tags": []
          }
        }
      ]
    },
    {
      "cell_type": "markdown",
      "metadata": {
        "id": "iDgoR23U49U5",
        "colab_type": "text"
      },
      "source": [
        "Confusion matrix"
      ]
    },
    {
      "cell_type": "code",
      "metadata": {
        "id": "-4OlCFco5BA4",
        "colab_type": "code",
        "colab": {
          "base_uri": "https://localhost:8080/",
          "height": 329
        },
        "outputId": "ac55ce75-bb76-4900-ae77-01fa297e5e81"
      },
      "source": [
        "from sklearn.metrics import confusion_matrix \n",
        "cm = confusion_matrix(y_test, y_pred) \n",
        "  \n",
        "print (\"Confusion Matrix : \\n\", cm) \n"
      ],
      "execution_count": 75,
      "outputs": [
        {
          "output_type": "stream",
          "text": [
            "Confusion Matrix : \n",
            " [[ 5  9  7  4  1  1  2  0  2  0  1  1  0  0  0  0]\n",
            " [10 13  4  3  0  0  3  0  2  1  0  1  0  0  0  0]\n",
            " [ 5  5  8  3  1  0  0  2  2  0  0  0  0  0  0  0]\n",
            " [ 3  4  2  2  2  1  1  1  1  0  0  0  0  0  0  0]\n",
            " [ 4  8  3  1  2  1  1  1  0  2  0  1  0  0  0  0]\n",
            " [ 3  4  3  4  4  2  1  0  2  0  2  0  0  0  0  0]\n",
            " [ 4  3  6  1  0  0  2  0  0  0  0  0  0  0  0  0]\n",
            " [ 4  3  3  0  3  2  0  0  0  0  0  1  0  0  0  0]\n",
            " [ 3  0  1  1  1  1  0  1  0  1  0  0  2  0  0  0]\n",
            " [ 1  3  3  0  1  0  1  1  0  0  0  1  0  0  0  0]\n",
            " [ 1  2  0  0  1  0  0  0  0  0  0  0  0  0  0  0]\n",
            " [ 0  0  0  1  1  0  0  0  0  0  0  0  1  0  0  0]\n",
            " [ 0  1  0  0  1  1  0  0  0  0  0  0  0  0  0  0]\n",
            " [ 0  1  0  1  0  0  1  0  0  0  0  0  0  0  0  0]\n",
            " [ 0  1  0  0  0  0  0  0  0  0  0  0  0  0  0  0]\n",
            " [ 0  0  1  0  0  0  0  0  0  0  0  0  0  0  0  0]]\n"
          ],
          "name": "stdout"
        }
      ]
    },
    {
      "cell_type": "markdown",
      "metadata": {
        "id": "FD2P70SO1eSY",
        "colab_type": "text"
      },
      "source": [
        "SVM"
      ]
    },
    {
      "cell_type": "code",
      "metadata": {
        "id": "Na-bxGLbqbjz",
        "colab_type": "code",
        "colab": {}
      },
      "source": [
        "import pandas as pd\n",
        "import numpy as np\n",
        "import matplotlib.pyplot as plt\n",
        "%matplotlib inline"
      ],
      "execution_count": 0,
      "outputs": []
    },
    {
      "cell_type": "code",
      "metadata": {
        "id": "ak65pBjRrVt0",
        "colab_type": "code",
        "colab": {}
      },
      "source": [
        "dataset = pd.read_csv('/content/pima-indians-diabetes-database-2.zip')"
      ],
      "execution_count": 0,
      "outputs": []
    },
    {
      "cell_type": "code",
      "metadata": {
        "id": "k2Rxo2Z9rid9",
        "colab_type": "code",
        "colab": {
          "base_uri": "https://localhost:8080/",
          "height": 35
        },
        "outputId": "75f65610-ba98-49ea-c4fd-299d70cded2b"
      },
      "source": [
        "dataset.shape"
      ],
      "execution_count": 106,
      "outputs": [
        {
          "output_type": "execute_result",
          "data": {
            "text/plain": [
              "(768, 9)"
            ]
          },
          "metadata": {
            "tags": []
          },
          "execution_count": 106
        }
      ]
    },
    {
      "cell_type": "code",
      "metadata": {
        "id": "ULHByC6ertkl",
        "colab_type": "code",
        "colab": {
          "base_uri": "https://localhost:8080/",
          "height": 206
        },
        "outputId": "0e1aff6e-6413-47b8-fb06-65d015edd2ae"
      },
      "source": [
        "dataset.head()"
      ],
      "execution_count": 107,
      "outputs": [
        {
          "output_type": "execute_result",
          "data": {
            "text/html": [
              "<div>\n",
              "<style scoped>\n",
              "    .dataframe tbody tr th:only-of-type {\n",
              "        vertical-align: middle;\n",
              "    }\n",
              "\n",
              "    .dataframe tbody tr th {\n",
              "        vertical-align: top;\n",
              "    }\n",
              "\n",
              "    .dataframe thead th {\n",
              "        text-align: right;\n",
              "    }\n",
              "</style>\n",
              "<table border=\"1\" class=\"dataframe\">\n",
              "  <thead>\n",
              "    <tr style=\"text-align: right;\">\n",
              "      <th></th>\n",
              "      <th>Pregnancies</th>\n",
              "      <th>Glucose</th>\n",
              "      <th>BloodPressure</th>\n",
              "      <th>SkinThickness</th>\n",
              "      <th>Insulin</th>\n",
              "      <th>BMI</th>\n",
              "      <th>DiabetesPedigreeFunction</th>\n",
              "      <th>Age</th>\n",
              "      <th>Outcome</th>\n",
              "    </tr>\n",
              "  </thead>\n",
              "  <tbody>\n",
              "    <tr>\n",
              "      <th>0</th>\n",
              "      <td>6</td>\n",
              "      <td>148</td>\n",
              "      <td>72</td>\n",
              "      <td>35</td>\n",
              "      <td>0</td>\n",
              "      <td>33.6</td>\n",
              "      <td>0.627</td>\n",
              "      <td>50</td>\n",
              "      <td>1</td>\n",
              "    </tr>\n",
              "    <tr>\n",
              "      <th>1</th>\n",
              "      <td>1</td>\n",
              "      <td>85</td>\n",
              "      <td>66</td>\n",
              "      <td>29</td>\n",
              "      <td>0</td>\n",
              "      <td>26.6</td>\n",
              "      <td>0.351</td>\n",
              "      <td>31</td>\n",
              "      <td>0</td>\n",
              "    </tr>\n",
              "    <tr>\n",
              "      <th>2</th>\n",
              "      <td>8</td>\n",
              "      <td>183</td>\n",
              "      <td>64</td>\n",
              "      <td>0</td>\n",
              "      <td>0</td>\n",
              "      <td>23.3</td>\n",
              "      <td>0.672</td>\n",
              "      <td>32</td>\n",
              "      <td>1</td>\n",
              "    </tr>\n",
              "    <tr>\n",
              "      <th>3</th>\n",
              "      <td>1</td>\n",
              "      <td>89</td>\n",
              "      <td>66</td>\n",
              "      <td>23</td>\n",
              "      <td>94</td>\n",
              "      <td>28.1</td>\n",
              "      <td>0.167</td>\n",
              "      <td>21</td>\n",
              "      <td>0</td>\n",
              "    </tr>\n",
              "    <tr>\n",
              "      <th>4</th>\n",
              "      <td>0</td>\n",
              "      <td>137</td>\n",
              "      <td>40</td>\n",
              "      <td>35</td>\n",
              "      <td>168</td>\n",
              "      <td>43.1</td>\n",
              "      <td>2.288</td>\n",
              "      <td>33</td>\n",
              "      <td>1</td>\n",
              "    </tr>\n",
              "  </tbody>\n",
              "</table>\n",
              "</div>"
            ],
            "text/plain": [
              "   Pregnancies  Glucose  BloodPressure  ...  DiabetesPedigreeFunction  Age  Outcome\n",
              "0            6      148             72  ...                     0.627   50        1\n",
              "1            1       85             66  ...                     0.351   31        0\n",
              "2            8      183             64  ...                     0.672   32        1\n",
              "3            1       89             66  ...                     0.167   21        0\n",
              "4            0      137             40  ...                     2.288   33        1\n",
              "\n",
              "[5 rows x 9 columns]"
            ]
          },
          "metadata": {
            "tags": []
          },
          "execution_count": 107
        }
      ]
    },
    {
      "cell_type": "code",
      "metadata": {
        "id": "cj9AcS7IsD5I",
        "colab_type": "code",
        "colab": {}
      },
      "source": [
        "from sklearn.model_selection import train_test_split\n",
        "X_train, X_test, y_train, y_test = train_test_split(X, y, test_size = 0.20)"
      ],
      "execution_count": 0,
      "outputs": []
    },
    {
      "cell_type": "code",
      "metadata": {
        "id": "VUZg83JKthVk",
        "colab_type": "code",
        "colab": {
          "base_uri": "https://localhost:8080/",
          "height": 90
        },
        "outputId": "88e58d24-8224-4423-a3d4-9a1096e6eb50"
      },
      "source": [
        "from sklearn.svm import SVC\n",
        "svclassifier = SVC(kernel='poly', degree=8)\n",
        "svclassifier.fit(X_train, y_train)"
      ],
      "execution_count": 109,
      "outputs": [
        {
          "output_type": "execute_result",
          "data": {
            "text/plain": [
              "SVC(C=1.0, break_ties=False, cache_size=200, class_weight=None, coef0=0.0,\n",
              "    decision_function_shape='ovr', degree=8, gamma='scale', kernel='poly',\n",
              "    max_iter=-1, probability=False, random_state=None, shrinking=True,\n",
              "    tol=0.001, verbose=False)"
            ]
          },
          "metadata": {
            "tags": []
          },
          "execution_count": 109
        }
      ]
    },
    {
      "cell_type": "code",
      "metadata": {
        "id": "vwdnI8nTtmNy",
        "colab_type": "code",
        "colab": {}
      },
      "source": [
        "y_pred = svclassifier.predict(X_test)"
      ],
      "execution_count": 0,
      "outputs": []
    },
    {
      "cell_type": "code",
      "metadata": {
        "id": "HBVkwgzCtqmy",
        "colab_type": "code",
        "colab": {
          "base_uri": "https://localhost:8080/",
          "height": 54
        },
        "outputId": "fab02894-533a-4e41-8b69-bce60396f060"
      },
      "source": [
        "y_pred"
      ],
      "execution_count": 111,
      "outputs": [
        {
          "output_type": "execute_result",
          "data": {
            "text/plain": [
              "array([1, 1, 0, 0, 1, 1, 1, 1, 2, 2, 2, 2, 0, 2, 2, 0, 1, 0, 1, 0, 1, 1,\n",
              "       1, 0, 0, 2, 1, 1, 0, 1])"
            ]
          },
          "metadata": {
            "tags": []
          },
          "execution_count": 111
        }
      ]
    },
    {
      "cell_type": "code",
      "metadata": {
        "id": "tsRHpJ4QtvHa",
        "colab_type": "code",
        "colab": {
          "base_uri": "https://localhost:8080/",
          "height": 256
        },
        "outputId": "92152a58-d26a-40e2-a539-8b6363b65d6e"
      },
      "source": [
        "from sklearn.metrics import classification_report, confusion_matrix\n",
        "print(confusion_matrix(y_test, y_pred))\n",
        "print(classification_report(y_test, y_pred))"
      ],
      "execution_count": 112,
      "outputs": [
        {
          "output_type": "stream",
          "text": [
            "[[ 9  0  0]\n",
            " [ 0 11  0]\n",
            " [ 0  3  7]]\n",
            "              precision    recall  f1-score   support\n",
            "\n",
            "           0       1.00      1.00      1.00         9\n",
            "           1       0.79      1.00      0.88        11\n",
            "           2       1.00      0.70      0.82        10\n",
            "\n",
            "    accuracy                           0.90        30\n",
            "   macro avg       0.93      0.90      0.90        30\n",
            "weighted avg       0.92      0.90      0.90        30\n",
            "\n"
          ],
          "name": "stdout"
        }
      ]
    },
    {
      "cell_type": "code",
      "metadata": {
        "id": "bY7-njcCt3sI",
        "colab_type": "code",
        "colab": {
          "base_uri": "https://localhost:8080/",
          "height": 90
        },
        "outputId": "d3aa04dc-b655-4c56-b0f5-ad9c9eed3a27"
      },
      "source": [
        "from sklearn.svm import SVC\n",
        "svclassifier = SVC(kernel='rbf')\n",
        "svclassifier.fit(X_train, y_train)"
      ],
      "execution_count": 113,
      "outputs": [
        {
          "output_type": "execute_result",
          "data": {
            "text/plain": [
              "SVC(C=1.0, break_ties=False, cache_size=200, class_weight=None, coef0=0.0,\n",
              "    decision_function_shape='ovr', degree=3, gamma='scale', kernel='rbf',\n",
              "    max_iter=-1, probability=False, random_state=None, shrinking=True,\n",
              "    tol=0.001, verbose=False)"
            ]
          },
          "metadata": {
            "tags": []
          },
          "execution_count": 113
        }
      ]
    },
    {
      "cell_type": "code",
      "metadata": {
        "id": "E6Cu1lUZt99Q",
        "colab_type": "code",
        "colab": {}
      },
      "source": [
        "y_pred = svclassifier.predict(X_test)"
      ],
      "execution_count": 0,
      "outputs": []
    },
    {
      "cell_type": "code",
      "metadata": {
        "id": "G2MmFtfVuNz2",
        "colab_type": "code",
        "colab": {
          "base_uri": "https://localhost:8080/",
          "height": 256
        },
        "outputId": "916a0bf7-42b9-423a-a491-822c4b633cb7"
      },
      "source": [
        "from sklearn.metrics import classification_report, confusion_matrix\n",
        "print(confusion_matrix(y_test, y_pred))\n",
        "print(classification_report(y_test, y_pred))"
      ],
      "execution_count": 115,
      "outputs": [
        {
          "output_type": "stream",
          "text": [
            "[[ 9  0  0]\n",
            " [ 0 11  0]\n",
            " [ 0  2  8]]\n",
            "              precision    recall  f1-score   support\n",
            "\n",
            "           0       1.00      1.00      1.00         9\n",
            "           1       0.85      1.00      0.92        11\n",
            "           2       1.00      0.80      0.89        10\n",
            "\n",
            "    accuracy                           0.93        30\n",
            "   macro avg       0.95      0.93      0.94        30\n",
            "weighted avg       0.94      0.93      0.93        30\n",
            "\n"
          ],
          "name": "stdout"
        }
      ]
    },
    {
      "cell_type": "markdown",
      "metadata": {
        "id": "1ZU9Dlb35Fp4",
        "colab_type": "text"
      },
      "source": [
        "Accuracy"
      ]
    },
    {
      "cell_type": "code",
      "metadata": {
        "id": "ejbdc912uQO_",
        "colab_type": "code",
        "colab": {
          "base_uri": "https://localhost:8080/",
          "height": 35
        },
        "outputId": "0b30a5c4-7748-45fb-cc02-4bcac036121f"
      },
      "source": [
        "from sklearn.metrics import accuracy_score \n",
        "print (\"Accuracy : \", accuracy_score(y_test, y_pred))"
      ],
      "execution_count": 116,
      "outputs": [
        {
          "output_type": "stream",
          "text": [
            "Accuracy :  0.9333333333333333\n"
          ],
          "name": "stdout"
        }
      ]
    },
    {
      "cell_type": "markdown",
      "metadata": {
        "id": "JCWZUq725ISB",
        "colab_type": "text"
      },
      "source": [
        "Confusion matrix"
      ]
    },
    {
      "cell_type": "code",
      "metadata": {
        "id": "qEZXVpWX5L45",
        "colab_type": "code",
        "colab": {
          "base_uri": "https://localhost:8080/",
          "height": 90
        },
        "outputId": "503824dd-eab2-4cab-970d-c4679ad4351b"
      },
      "source": [
        "from sklearn.metrics import confusion_matrix \n",
        "cm = confusion_matrix(y_test, y_pred) \n",
        "  \n",
        "print (\"Confusion Matrix : \\n\", cm) \n"
      ],
      "execution_count": 117,
      "outputs": [
        {
          "output_type": "stream",
          "text": [
            "Confusion Matrix : \n",
            " [[ 9  0  0]\n",
            " [ 0 11  0]\n",
            " [ 0  2  8]]\n"
          ],
          "name": "stdout"
        }
      ]
    },
    {
      "cell_type": "markdown",
      "metadata": {
        "id": "p5b5yaUo1msI",
        "colab_type": "text"
      },
      "source": [
        "Descission Tree"
      ]
    },
    {
      "cell_type": "code",
      "metadata": {
        "id": "0nhjSBmc1r0W",
        "colab_type": "code",
        "colab": {}
      },
      "source": [
        "import pandas as pd\n",
        "from sklearn.tree import DecisionTreeClassifier # Import Decision Tree Classifier\n",
        "from sklearn.model_selection import train_test_split # Import train_test_split function\n",
        "from sklearn import metrics #Import scikit-learn metrics module for accuracy calculation"
      ],
      "execution_count": 0,
      "outputs": []
    },
    {
      "cell_type": "code",
      "metadata": {
        "id": "jdmYbLoq2Sfr",
        "colab_type": "code",
        "colab": {}
      },
      "source": [
        "pima = pd.read_csv(\"/content/pima-indians-diabetes-database-2.zip\", header=None)"
      ],
      "execution_count": 0,
      "outputs": []
    },
    {
      "cell_type": "code",
      "metadata": {
        "id": "KYlrQbtD223E",
        "colab_type": "code",
        "colab": {}
      },
      "source": [
        "X = pima[6] # Features\n",
        "y = pima[[0]] # Target variable"
      ],
      "execution_count": 0,
      "outputs": []
    },
    {
      "cell_type": "code",
      "metadata": {
        "id": "59gps66o3eW5",
        "colab_type": "code",
        "colab": {
          "base_uri": "https://localhost:8080/",
          "height": 146
        },
        "outputId": "26a4bcd5-72f5-460c-cf41-e7cdca45bf23"
      },
      "source": [
        "x"
      ],
      "execution_count": 66,
      "outputs": [
        {
          "output_type": "execute_result",
          "data": {
            "text/plain": [
              "array([[66, 29],\n",
              "       [64,  0],\n",
              "       [66, 23],\n",
              "       ...,\n",
              "       [72, 23],\n",
              "       [60,  0],\n",
              "       [70, 31]])"
            ]
          },
          "metadata": {
            "tags": []
          },
          "execution_count": 66
        }
      ]
    },
    {
      "cell_type": "code",
      "metadata": {
        "id": "-02QQTRcyMRv",
        "colab_type": "code",
        "colab": {}
      },
      "source": [
        "# Split dataset into training set and test set\n",
        "X_train, X_test, y_train, y_test = train_test_split(X, y, test_size=0.3, random_state=1) # 70% training and 30% test"
      ],
      "execution_count": 0,
      "outputs": []
    },
    {
      "cell_type": "code",
      "metadata": {
        "id": "5uHJ3i6W36Ya",
        "colab_type": "code",
        "colab": {}
      },
      "source": [
        "# Create Decision Tree classifer object\n",
        "clf = DecisionTreeClassifier()\n",
        "\n",
        "# Train Decision Tree Classifer\n",
        "clf = clf.fit(X_train,y_train)\n",
        "\n",
        "#Predict the response for test dataset\n",
        "y_pred = clf.predict(X_test)"
      ],
      "execution_count": 0,
      "outputs": []
    },
    {
      "cell_type": "markdown",
      "metadata": {
        "id": "CbHGJUGW5RDx",
        "colab_type": "text"
      },
      "source": [
        "Accuracy"
      ]
    },
    {
      "cell_type": "code",
      "metadata": {
        "id": "lESMKQYD4B5z",
        "colab_type": "code",
        "colab": {
          "base_uri": "https://localhost:8080/",
          "height": 35
        },
        "outputId": "a1248d8b-ff9f-4403-ecc2-51e1abdf6418"
      },
      "source": [
        "# Model Accuracy, how often is the classifier correct?\n",
        "print(\"Accuracy:\",metrics.accuracy_score(y_test, y_pred))"
      ],
      "execution_count": 72,
      "outputs": [
        {
          "output_type": "stream",
          "text": [
            "Accuracy: 0.1471861471861472\n"
          ],
          "name": "stdout"
        }
      ]
    },
    {
      "cell_type": "markdown",
      "metadata": {
        "id": "I9tLCfLp5UOc",
        "colab_type": "text"
      },
      "source": [
        "Confusion matrix"
      ]
    },
    {
      "cell_type": "code",
      "metadata": {
        "id": "lR0hRH7q4Zhs",
        "colab_type": "code",
        "colab": {
          "base_uri": "https://localhost:8080/",
          "height": 329
        },
        "outputId": "946e18b5-9348-4484-ab89-03faad0044e1"
      },
      "source": [
        "from sklearn.metrics import confusion_matrix \n",
        "cm = confusion_matrix(y_test, y_pred) \n",
        "  \n",
        "print (\"Confusion Matrix : \\n\", cm) \n"
      ],
      "execution_count": 74,
      "outputs": [
        {
          "output_type": "stream",
          "text": [
            "Confusion Matrix : \n",
            " [[ 5  9  7  4  1  1  2  0  2  0  1  1  0  0  0  0]\n",
            " [10 13  4  3  0  0  3  0  2  1  0  1  0  0  0  0]\n",
            " [ 5  5  8  3  1  0  0  2  2  0  0  0  0  0  0  0]\n",
            " [ 3  4  2  2  2  1  1  1  1  0  0  0  0  0  0  0]\n",
            " [ 4  8  3  1  2  1  1  1  0  2  0  1  0  0  0  0]\n",
            " [ 3  4  3  4  4  2  1  0  2  0  2  0  0  0  0  0]\n",
            " [ 4  3  6  1  0  0  2  0  0  0  0  0  0  0  0  0]\n",
            " [ 4  3  3  0  3  2  0  0  0  0  0  1  0  0  0  0]\n",
            " [ 3  0  1  1  1  1  0  1  0  1  0  0  2  0  0  0]\n",
            " [ 1  3  3  0  1  0  1  1  0  0  0  1  0  0  0  0]\n",
            " [ 1  2  0  0  1  0  0  0  0  0  0  0  0  0  0  0]\n",
            " [ 0  0  0  1  1  0  0  0  0  0  0  0  1  0  0  0]\n",
            " [ 0  1  0  0  1  1  0  0  0  0  0  0  0  0  0  0]\n",
            " [ 0  1  0  1  0  0  1  0  0  0  0  0  0  0  0  0]\n",
            " [ 0  1  0  0  0  0  0  0  0  0  0  0  0  0  0  0]\n",
            " [ 0  0  1  0  0  0  0  0  0  0  0  0  0  0  0  0]]\n"
          ],
          "name": "stdout"
        }
      ]
    }
  ]
}