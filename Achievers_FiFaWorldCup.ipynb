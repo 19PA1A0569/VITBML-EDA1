{
  "nbformat": 4,
  "nbformat_minor": 0,
  "metadata": {
    "colab": {
      "name": "Achievers_FiFaWorldCup.ipynb",
      "provenance": [],
      "authorship_tag": "ABX9TyPoIVo/CjtWDXbFLOixcE5l",
      "include_colab_link": true
    },
    "kernelspec": {
      "name": "python3",
      "display_name": "Python 3"
    }
  },
  "cells": [
    {
      "cell_type": "markdown",
      "metadata": {
        "id": "view-in-github",
        "colab_type": "text"
      },
      "source": [
        "<a href=\"https://colab.research.google.com/github/19PA1A0569/VITBML-EDA1/blob/master/Achievers_FiFaWorldCup.ipynb\" target=\"_parent\"><img src=\"https://colab.research.google.com/assets/colab-badge.svg\" alt=\"Open In Colab\"/></a>"
      ]
    },
    {
      "cell_type": "code",
      "metadata": {
        "id": "ayMt6PbENMNd",
        "colab_type": "code",
        "colab": {}
      },
      "source": [
        "My Teammates\n",
        "kommana Amrutha-19PA1A0581\n",
        "Karnati Pavani-19PA1A0569\n",
        "Medida Amulya-19PA1A05A5\n",
        "Kodali poojitha-19PA1A0574"
      ],
      "execution_count": 0,
      "outputs": []
    },
    {
      "cell_type": "code",
      "metadata": {
        "id": "r3Ojk8cvpyl6",
        "colab_type": "code",
        "outputId": "2a50dc0f-a01e-4b5e-ba56-b7513da4906f",
        "colab": {
          "base_uri": "https://localhost:8080/",
          "height": 1000
        }
      },
      "source": [
        "import pandas as pd\n",
        "df=pd.read_csv(\"/content/FIFAworldcup (1).csv\")\n",
        "df"
      ],
      "execution_count": 0,
      "outputs": [
        {
          "output_type": "execute_result",
          "data": {
            "text/html": [
              "<div>\n",
              "<style scoped>\n",
              "    .dataframe tbody tr th:only-of-type {\n",
              "        vertical-align: middle;\n",
              "    }\n",
              "\n",
              "    .dataframe tbody tr th {\n",
              "        vertical-align: top;\n",
              "    }\n",
              "\n",
              "    .dataframe thead th {\n",
              "        text-align: right;\n",
              "    }\n",
              "</style>\n",
              "<table border=\"1\" class=\"dataframe\">\n",
              "  <thead>\n",
              "    <tr style=\"text-align: right;\">\n",
              "      <th></th>\n",
              "      <th>ID</th>\n",
              "      <th>lang</th>\n",
              "      <th>Date</th>\n",
              "      <th>Source</th>\n",
              "      <th>len</th>\n",
              "      <th>Orig_Tweet</th>\n",
              "      <th>Tweet</th>\n",
              "      <th>Likes</th>\n",
              "      <th>RTs</th>\n",
              "      <th>Hashtags</th>\n",
              "      <th>UserMentionNames</th>\n",
              "      <th>UserMentionID</th>\n",
              "      <th>Name</th>\n",
              "      <th>Place</th>\n",
              "      <th>Followers</th>\n",
              "      <th>Friends</th>\n",
              "    </tr>\n",
              "  </thead>\n",
              "  <tbody>\n",
              "    <tr>\n",
              "      <th>0</th>\n",
              "      <td>1.013600e+18</td>\n",
              "      <td>en</td>\n",
              "      <td>02-07-2018 01:35</td>\n",
              "      <td>Twitter for Android</td>\n",
              "      <td>140</td>\n",
              "      <td>RT @Squawka: Only two goalkeepers have saved t...</td>\n",
              "      <td>Only two goalkeepers have saved three penaltie...</td>\n",
              "      <td>0.0</td>\n",
              "      <td>477.0</td>\n",
              "      <td>WorldCup,POR,ENG</td>\n",
              "      <td>Squawka Football</td>\n",
              "      <td>Squawka</td>\n",
              "      <td>Cayleb</td>\n",
              "      <td>Accra</td>\n",
              "      <td>861.0</td>\n",
              "      <td>828.0</td>\n",
              "    </tr>\n",
              "    <tr>\n",
              "      <th>1</th>\n",
              "      <td>1.013600e+18</td>\n",
              "      <td>en</td>\n",
              "      <td>02-07-2018 01:35</td>\n",
              "      <td>Twitter for Android</td>\n",
              "      <td>139</td>\n",
              "      <td>RT @FCBarcelona: ?? @ivanrakitic scores the wi...</td>\n",
              "      <td>scores the winning penalty to send into the qu...</td>\n",
              "      <td>0.0</td>\n",
              "      <td>1031.0</td>\n",
              "      <td>WorldCup</td>\n",
              "      <td>FC Barcelona,Ivan Rakitic,HNS | CFF</td>\n",
              "      <td>FCBarcelona,ivanrakitic,HNS_CFF</td>\n",
              "      <td>Febri Aditya</td>\n",
              "      <td>Bogor</td>\n",
              "      <td>667.0</td>\n",
              "      <td>686.0</td>\n",
              "    </tr>\n",
              "    <tr>\n",
              "      <th>2</th>\n",
              "      <td>1.013600e+18</td>\n",
              "      <td>en</td>\n",
              "      <td>02-07-2018 01:35</td>\n",
              "      <td>Twitter for Android</td>\n",
              "      <td>107</td>\n",
              "      <td>RT @javierfernandez: Tonight we have big game....</td>\n",
              "      <td>Tonight we have big game</td>\n",
              "      <td>0.0</td>\n",
              "      <td>488.0</td>\n",
              "      <td>worldcup</td>\n",
              "      <td>Javier Fernandez,Evgeni Plushenko</td>\n",
              "      <td>javierfernandez,EvgeniPlushenko</td>\n",
              "      <td>??</td>\n",
              "      <td>NaN</td>\n",
              "      <td>65.0</td>\n",
              "      <td>67.0</td>\n",
              "    </tr>\n",
              "    <tr>\n",
              "      <th>3</th>\n",
              "      <td>1.013600e+18</td>\n",
              "      <td>en</td>\n",
              "      <td>02-07-2018 01:35</td>\n",
              "      <td>Twitter Web Client</td>\n",
              "      <td>142</td>\n",
              "      <td>We get stronger\\r\\nTurn the music up now\\r\\nWe...</td>\n",
              "      <td>We get stronger Turn the music up now We got t...</td>\n",
              "      <td>0.0</td>\n",
              "      <td>0.0</td>\n",
              "      <td>PowerByEXO,WorldCup,FIFAStadiumDJ,XiuminLeague</td>\n",
              "      <td>EXO,FIFA World Cup ?</td>\n",
              "      <td>weareoneEXO,FIFAWorldCup</td>\n",
              "      <td>Frida Carrillo</td>\n",
              "      <td>Zapopan, Jalisco</td>\n",
              "      <td>17.0</td>\n",
              "      <td>89.0</td>\n",
              "    </tr>\n",
              "    <tr>\n",
              "      <th>4</th>\n",
              "      <td>1.013600e+18</td>\n",
              "      <td>en</td>\n",
              "      <td>02-07-2018 01:35</td>\n",
              "      <td>Twitter for Android</td>\n",
              "      <td>140</td>\n",
              "      <td>RT @Squawka: Only two goalkeepers have saved t...</td>\n",
              "      <td>Only two goalkeepers have saved three penaltie...</td>\n",
              "      <td>0.0</td>\n",
              "      <td>477.0</td>\n",
              "      <td>WorldCup,POR,ENG</td>\n",
              "      <td>Squawka Football</td>\n",
              "      <td>Squawka</td>\n",
              "      <td>tar</td>\n",
              "      <td>NaN</td>\n",
              "      <td>137.0</td>\n",
              "      <td>216.0</td>\n",
              "    </tr>\n",
              "    <tr>\n",
              "      <th>...</th>\n",
              "      <td>...</td>\n",
              "      <td>...</td>\n",
              "      <td>...</td>\n",
              "      <td>...</td>\n",
              "      <td>...</td>\n",
              "      <td>...</td>\n",
              "      <td>...</td>\n",
              "      <td>...</td>\n",
              "      <td>...</td>\n",
              "      <td>...</td>\n",
              "      <td>...</td>\n",
              "      <td>...</td>\n",
              "      <td>...</td>\n",
              "      <td>...</td>\n",
              "      <td>...</td>\n",
              "      <td>...</td>\n",
              "    </tr>\n",
              "    <tr>\n",
              "      <th>21808</th>\n",
              "      <td>1.013560e+18</td>\n",
              "      <td>en</td>\n",
              "      <td>01-07-2018 22:56</td>\n",
              "      <td>Twitter for iPhone</td>\n",
              "      <td>64</td>\n",
              "      <td>RT @MisterHeartz: GG GN and GL #WorldCup https...</td>\n",
              "      <td>GG GN and GL</td>\n",
              "      <td>0.0</td>\n",
              "      <td>4437.0</td>\n",
              "      <td>WorldCup</td>\n",
              "      <td>HRK800 Serial No. 191 919 199</td>\n",
              "      <td>MisterHeartz</td>\n",
              "      <td>?????????????????????</td>\n",
              "      <td>151115</td>\n",
              "      <td>354.0</td>\n",
              "      <td>201.0</td>\n",
              "    </tr>\n",
              "    <tr>\n",
              "      <th>21809</th>\n",
              "      <td>1.013560e+18</td>\n",
              "      <td>en</td>\n",
              "      <td>01-07-2018 22:56</td>\n",
              "      <td>Twitter for Android</td>\n",
              "      <td>116</td>\n",
              "      <td>RT @Alex_Houseof308: #FRAARG #WorldCup\\r\\nA sh...</td>\n",
              "      <td>short story involving Nigeria Argentina and Fr...</td>\n",
              "      <td>0.0</td>\n",
              "      <td>10987.0</td>\n",
              "      <td>FRAARG,WorldCup</td>\n",
              "      <td>Four-eyed Edo boy™</td>\n",
              "      <td>Alex_Houseof308</td>\n",
              "      <td>Jeriah Onsare</td>\n",
              "      <td>Nairobi</td>\n",
              "      <td>64.0</td>\n",
              "      <td>62.0</td>\n",
              "    </tr>\n",
              "    <tr>\n",
              "      <th>21810</th>\n",
              "      <td>1.013560e+18</td>\n",
              "      <td>en</td>\n",
              "      <td>01-07-2018 22:56</td>\n",
              "      <td>Twitter Web Client</td>\n",
              "      <td>140</td>\n",
              "      <td>RT @ShehabAgencyEn: ??#Palestine : The Palesti...</td>\n",
              "      <td>The Palestinian child Yasser Abu al Naja was k...</td>\n",
              "      <td>0.0</td>\n",
              "      <td>95.0</td>\n",
              "      <td>Palestine</td>\n",
              "      <td>Shehab News</td>\n",
              "      <td>ShehabAgencyEn</td>\n",
              "      <td>Arlene Adamo???</td>\n",
              "      <td>Canada</td>\n",
              "      <td>5298.0</td>\n",
              "      <td>4802.0</td>\n",
              "    </tr>\n",
              "    <tr>\n",
              "      <th>21811</th>\n",
              "      <td>1.013560e+18</td>\n",
              "      <td>en</td>\n",
              "      <td>01-07-2018 22:56</td>\n",
              "      <td>Twitter for iPhone</td>\n",
              "      <td>139</td>\n",
              "      <td>RT @miseleccionmxEN: Please welcome our newest...</td>\n",
              "      <td>Please welcome our newest member to the Incond...</td>\n",
              "      <td>0.0</td>\n",
              "      <td>780.0</td>\n",
              "      <td>NaN</td>\n",
              "      <td>Mexican National Team,Oprah Winfrey</td>\n",
              "      <td>miseleccionmxEN,Oprah</td>\n",
              "      <td>Veronica BP</td>\n",
              "      <td>NaN</td>\n",
              "      <td>172.0</td>\n",
              "      <td>292.0</td>\n",
              "    </tr>\n",
              "    <tr>\n",
              "      <th>21812</th>\n",
              "      <td>1.013560e+18</td>\n",
              "      <td>en</td>\n",
              "      <td>01-07-2018 22:56</td>\n",
              "      <td>Twitter for iPhone</td>\n",
              "      <td>140</td>\n",
              "      <td>RT @8Fact_Footballl: ?? Kasper Schmeichel vs C...</td>\n",
              "      <td>Kasper Schmeichel</td>\n",
              "      <td>NaN</td>\n",
              "      <td>NaN</td>\n",
              "      <td>NaN</td>\n",
              "      <td>NaN</td>\n",
              "      <td>NaN</td>\n",
              "      <td>NaN</td>\n",
              "      <td>NaN</td>\n",
              "      <td>NaN</td>\n",
              "      <td>NaN</td>\n",
              "    </tr>\n",
              "  </tbody>\n",
              "</table>\n",
              "<p>21813 rows × 16 columns</p>\n",
              "</div>"
            ],
            "text/plain": [
              "                 ID lang  ... Followers Friends\n",
              "0      1.013600e+18   en  ...     861.0   828.0\n",
              "1      1.013600e+18   en  ...     667.0   686.0\n",
              "2      1.013600e+18   en  ...      65.0    67.0\n",
              "3      1.013600e+18   en  ...      17.0    89.0\n",
              "4      1.013600e+18   en  ...     137.0   216.0\n",
              "...             ...  ...  ...       ...     ...\n",
              "21808  1.013560e+18   en  ...     354.0   201.0\n",
              "21809  1.013560e+18   en  ...      64.0    62.0\n",
              "21810  1.013560e+18   en  ...    5298.0  4802.0\n",
              "21811  1.013560e+18   en  ...     172.0   292.0\n",
              "21812  1.013560e+18   en  ...       NaN     NaN\n",
              "\n",
              "[21813 rows x 16 columns]"
            ]
          },
          "metadata": {
            "tags": []
          },
          "execution_count": 10
        }
      ]
    },
    {
      "cell_type": "code",
      "metadata": {
        "id": "evmJjagUNJYn",
        "colab_type": "code",
        "colab": {}
      },
      "source": [
        ""
      ],
      "execution_count": 0,
      "outputs": []
    },
    {
      "cell_type": "markdown",
      "metadata": {
        "id": "A-CAqzE3wMzD",
        "colab_type": "text"
      },
      "source": [
        "Introduction:\n",
        "2018 World Cup\" redirects here. For other competitions of that name, see 2018 World Cup (disambiguation).\n",
        "\"FIFA 2018\" redirects here. For the video game, see FIFA 18.\n",
        "2018 FIFA World Cup\n",
        "Чемпионат мира по футболу FIFA 2018\n",
        "Chempionat mira po futbolu FIFA 2018\n",
        "2018 FIFA World Cup.svg\n",
        "The official emblem\n",
        "Tournament details\n",
        "Host country\tRussia\n",
        "Dates\t14 June – 15 July\n",
        "Teams\t32 (from 5 confederations)\n",
        "Venue(s)\t12 (in 11 host cities)\n",
        "Final positions\n",
        "Champions\t France (2nd title)\n",
        "Runners-up\t Croatia\n",
        "Third place\t Belgium\n",
        "Fourth place\t England\n",
        "Tournament statistics\n",
        "Matches played\t64\n",
        "Goals scored\t169 (2.64 per match)\n",
        "Attendance\t3,031,768 (47,371 per match)\n",
        "Top scorer(s)\tEngland Harry Kane (6 goals)\n",
        "Best player(s)\tCroatia Luka Modrić\n",
        "Best young player\tFrance Kylian Mbappé\n",
        "Best goalkeeper\tBelgium Thibaut Courtois\n",
        "Fair play award\t Spain\n",
        "← 20142022 →\n",
        "The 2018 FIFA World Cup was the 21st FIFA World Cup, an international football tournament contested by the men's national teams of the member associations of FIFA once every four years. It took place in Russia from 14 June to 15 July 2018.[1] It was the first World Cup to be held in Eastern Europe,[2] and the 11th time that it had been held in Europe. At an estimated cost of over $14.2 billion, it was the most expensive World Cup.[3] It was also the first World Cup to use the video assistant referee (VAR) system.[4][5]\n",
        "\n",
        "The finals involved 32 teams, of which 31 came through qualifying competitions, while the host nation qualified automatically. Of the 32 teams, 20 had also appeared in the previous tournament in 2014, while both Iceland and Panama made their first appearances at a FIFA World Cup. A total of 64 matches were played in 12 venues across 11 cities.[6] Germany were the defending champions, but were eliminated in the group stage. Host nation Russia were eliminated in the quarter-finals.\n",
        "\n",
        "The final took place on 15 July at the Luzhniki Stadium in Moscow, between France and Croatia. France won the match 4–2 to claim their second World Cup title, marking the fourth consecutive title won by a European team."
      ]
    },
    {
      "cell_type": "code",
      "metadata": {
        "id": "I3n8oG7TuQQS",
        "colab_type": "code",
        "colab": {}
      },
      "source": [
        ""
      ],
      "execution_count": 0,
      "outputs": []
    },
    {
      "cell_type": "code",
      "metadata": {
        "id": "E9yPch46uj4O",
        "colab_type": "code",
        "outputId": "9cb64eff-e370-4357-80df-e270a3a8cbe7",
        "colab": {
          "base_uri": "https://localhost:8080/",
          "height": 564
        }
      },
      "source": [
        "df.head(5)"
      ],
      "execution_count": 0,
      "outputs": [
        {
          "output_type": "execute_result",
          "data": {
            "text/html": [
              "<div>\n",
              "<style scoped>\n",
              "    .dataframe tbody tr th:only-of-type {\n",
              "        vertical-align: middle;\n",
              "    }\n",
              "\n",
              "    .dataframe tbody tr th {\n",
              "        vertical-align: top;\n",
              "    }\n",
              "\n",
              "    .dataframe thead th {\n",
              "        text-align: right;\n",
              "    }\n",
              "</style>\n",
              "<table border=\"1\" class=\"dataframe\">\n",
              "  <thead>\n",
              "    <tr style=\"text-align: right;\">\n",
              "      <th></th>\n",
              "      <th>ID</th>\n",
              "      <th>lang</th>\n",
              "      <th>Date</th>\n",
              "      <th>Source</th>\n",
              "      <th>len</th>\n",
              "      <th>Orig_Tweet</th>\n",
              "      <th>Tweet</th>\n",
              "      <th>Likes</th>\n",
              "      <th>RTs</th>\n",
              "      <th>Hashtags</th>\n",
              "      <th>UserMentionNames</th>\n",
              "      <th>UserMentionID</th>\n",
              "      <th>Name</th>\n",
              "      <th>Place</th>\n",
              "      <th>Followers</th>\n",
              "      <th>Friends</th>\n",
              "    </tr>\n",
              "  </thead>\n",
              "  <tbody>\n",
              "    <tr>\n",
              "      <th>0</th>\n",
              "      <td>1.013600e+18</td>\n",
              "      <td>en</td>\n",
              "      <td>02-07-2018 01:35</td>\n",
              "      <td>Twitter for Android</td>\n",
              "      <td>140</td>\n",
              "      <td>RT @Squawka: Only two goalkeepers have saved t...</td>\n",
              "      <td>Only two goalkeepers have saved three penaltie...</td>\n",
              "      <td>0.0</td>\n",
              "      <td>477.0</td>\n",
              "      <td>WorldCup,POR,ENG</td>\n",
              "      <td>Squawka Football</td>\n",
              "      <td>Squawka</td>\n",
              "      <td>Cayleb</td>\n",
              "      <td>Accra</td>\n",
              "      <td>861.0</td>\n",
              "      <td>828.0</td>\n",
              "    </tr>\n",
              "    <tr>\n",
              "      <th>1</th>\n",
              "      <td>1.013600e+18</td>\n",
              "      <td>en</td>\n",
              "      <td>02-07-2018 01:35</td>\n",
              "      <td>Twitter for Android</td>\n",
              "      <td>139</td>\n",
              "      <td>RT @FCBarcelona: ?? @ivanrakitic scores the wi...</td>\n",
              "      <td>scores the winning penalty to send into the qu...</td>\n",
              "      <td>0.0</td>\n",
              "      <td>1031.0</td>\n",
              "      <td>WorldCup</td>\n",
              "      <td>FC Barcelona,Ivan Rakitic,HNS | CFF</td>\n",
              "      <td>FCBarcelona,ivanrakitic,HNS_CFF</td>\n",
              "      <td>Febri Aditya</td>\n",
              "      <td>Bogor</td>\n",
              "      <td>667.0</td>\n",
              "      <td>686.0</td>\n",
              "    </tr>\n",
              "    <tr>\n",
              "      <th>2</th>\n",
              "      <td>1.013600e+18</td>\n",
              "      <td>en</td>\n",
              "      <td>02-07-2018 01:35</td>\n",
              "      <td>Twitter for Android</td>\n",
              "      <td>107</td>\n",
              "      <td>RT @javierfernandez: Tonight we have big game....</td>\n",
              "      <td>Tonight we have big game</td>\n",
              "      <td>0.0</td>\n",
              "      <td>488.0</td>\n",
              "      <td>worldcup</td>\n",
              "      <td>Javier Fernandez,Evgeni Plushenko</td>\n",
              "      <td>javierfernandez,EvgeniPlushenko</td>\n",
              "      <td>??</td>\n",
              "      <td>NaN</td>\n",
              "      <td>65.0</td>\n",
              "      <td>67.0</td>\n",
              "    </tr>\n",
              "    <tr>\n",
              "      <th>3</th>\n",
              "      <td>1.013600e+18</td>\n",
              "      <td>en</td>\n",
              "      <td>02-07-2018 01:35</td>\n",
              "      <td>Twitter Web Client</td>\n",
              "      <td>142</td>\n",
              "      <td>We get stronger\\r\\nTurn the music up now\\r\\nWe...</td>\n",
              "      <td>We get stronger Turn the music up now We got t...</td>\n",
              "      <td>0.0</td>\n",
              "      <td>0.0</td>\n",
              "      <td>PowerByEXO,WorldCup,FIFAStadiumDJ,XiuminLeague</td>\n",
              "      <td>EXO,FIFA World Cup ?</td>\n",
              "      <td>weareoneEXO,FIFAWorldCup</td>\n",
              "      <td>Frida Carrillo</td>\n",
              "      <td>Zapopan, Jalisco</td>\n",
              "      <td>17.0</td>\n",
              "      <td>89.0</td>\n",
              "    </tr>\n",
              "    <tr>\n",
              "      <th>4</th>\n",
              "      <td>1.013600e+18</td>\n",
              "      <td>en</td>\n",
              "      <td>02-07-2018 01:35</td>\n",
              "      <td>Twitter for Android</td>\n",
              "      <td>140</td>\n",
              "      <td>RT @Squawka: Only two goalkeepers have saved t...</td>\n",
              "      <td>Only two goalkeepers have saved three penaltie...</td>\n",
              "      <td>0.0</td>\n",
              "      <td>477.0</td>\n",
              "      <td>WorldCup,POR,ENG</td>\n",
              "      <td>Squawka Football</td>\n",
              "      <td>Squawka</td>\n",
              "      <td>tar</td>\n",
              "      <td>NaN</td>\n",
              "      <td>137.0</td>\n",
              "      <td>216.0</td>\n",
              "    </tr>\n",
              "  </tbody>\n",
              "</table>\n",
              "</div>"
            ],
            "text/plain": [
              "             ID lang              Date  ...             Place  Followers Friends\n",
              "0  1.013600e+18   en  02-07-2018 01:35  ...             Accra      861.0   828.0\n",
              "1  1.013600e+18   en  02-07-2018 01:35  ...             Bogor      667.0   686.0\n",
              "2  1.013600e+18   en  02-07-2018 01:35  ...               NaN       65.0    67.0\n",
              "3  1.013600e+18   en  02-07-2018 01:35  ...  Zapopan, Jalisco       17.0    89.0\n",
              "4  1.013600e+18   en  02-07-2018 01:35  ...               NaN      137.0   216.0\n",
              "\n",
              "[5 rows x 16 columns]"
            ]
          },
          "metadata": {
            "tags": []
          },
          "execution_count": 12
        }
      ]
    },
    {
      "cell_type": "code",
      "metadata": {
        "id": "TI3kjY37uyot",
        "colab_type": "code",
        "outputId": "8c4e72d7-185a-4eb1-b85c-be71c9bb38ae",
        "colab": {
          "base_uri": "https://localhost:8080/",
          "height": 564
        }
      },
      "source": [
        "df.tail(5)"
      ],
      "execution_count": 0,
      "outputs": [
        {
          "output_type": "execute_result",
          "data": {
            "text/html": [
              "<div>\n",
              "<style scoped>\n",
              "    .dataframe tbody tr th:only-of-type {\n",
              "        vertical-align: middle;\n",
              "    }\n",
              "\n",
              "    .dataframe tbody tr th {\n",
              "        vertical-align: top;\n",
              "    }\n",
              "\n",
              "    .dataframe thead th {\n",
              "        text-align: right;\n",
              "    }\n",
              "</style>\n",
              "<table border=\"1\" class=\"dataframe\">\n",
              "  <thead>\n",
              "    <tr style=\"text-align: right;\">\n",
              "      <th></th>\n",
              "      <th>ID</th>\n",
              "      <th>lang</th>\n",
              "      <th>Date</th>\n",
              "      <th>Source</th>\n",
              "      <th>len</th>\n",
              "      <th>Orig_Tweet</th>\n",
              "      <th>Tweet</th>\n",
              "      <th>Likes</th>\n",
              "      <th>RTs</th>\n",
              "      <th>Hashtags</th>\n",
              "      <th>UserMentionNames</th>\n",
              "      <th>UserMentionID</th>\n",
              "      <th>Name</th>\n",
              "      <th>Place</th>\n",
              "      <th>Followers</th>\n",
              "      <th>Friends</th>\n",
              "    </tr>\n",
              "  </thead>\n",
              "  <tbody>\n",
              "    <tr>\n",
              "      <th>21808</th>\n",
              "      <td>1.013560e+18</td>\n",
              "      <td>en</td>\n",
              "      <td>01-07-2018 22:56</td>\n",
              "      <td>Twitter for iPhone</td>\n",
              "      <td>64</td>\n",
              "      <td>RT @MisterHeartz: GG GN and GL #WorldCup https...</td>\n",
              "      <td>GG GN and GL</td>\n",
              "      <td>0.0</td>\n",
              "      <td>4437.0</td>\n",
              "      <td>WorldCup</td>\n",
              "      <td>HRK800 Serial No. 191 919 199</td>\n",
              "      <td>MisterHeartz</td>\n",
              "      <td>?????????????????????</td>\n",
              "      <td>151115</td>\n",
              "      <td>354.0</td>\n",
              "      <td>201.0</td>\n",
              "    </tr>\n",
              "    <tr>\n",
              "      <th>21809</th>\n",
              "      <td>1.013560e+18</td>\n",
              "      <td>en</td>\n",
              "      <td>01-07-2018 22:56</td>\n",
              "      <td>Twitter for Android</td>\n",
              "      <td>116</td>\n",
              "      <td>RT @Alex_Houseof308: #FRAARG #WorldCup\\r\\nA sh...</td>\n",
              "      <td>short story involving Nigeria Argentina and Fr...</td>\n",
              "      <td>0.0</td>\n",
              "      <td>10987.0</td>\n",
              "      <td>FRAARG,WorldCup</td>\n",
              "      <td>Four-eyed Edo boy™</td>\n",
              "      <td>Alex_Houseof308</td>\n",
              "      <td>Jeriah Onsare</td>\n",
              "      <td>Nairobi</td>\n",
              "      <td>64.0</td>\n",
              "      <td>62.0</td>\n",
              "    </tr>\n",
              "    <tr>\n",
              "      <th>21810</th>\n",
              "      <td>1.013560e+18</td>\n",
              "      <td>en</td>\n",
              "      <td>01-07-2018 22:56</td>\n",
              "      <td>Twitter Web Client</td>\n",
              "      <td>140</td>\n",
              "      <td>RT @ShehabAgencyEn: ??#Palestine : The Palesti...</td>\n",
              "      <td>The Palestinian child Yasser Abu al Naja was k...</td>\n",
              "      <td>0.0</td>\n",
              "      <td>95.0</td>\n",
              "      <td>Palestine</td>\n",
              "      <td>Shehab News</td>\n",
              "      <td>ShehabAgencyEn</td>\n",
              "      <td>Arlene Adamo???</td>\n",
              "      <td>Canada</td>\n",
              "      <td>5298.0</td>\n",
              "      <td>4802.0</td>\n",
              "    </tr>\n",
              "    <tr>\n",
              "      <th>21811</th>\n",
              "      <td>1.013560e+18</td>\n",
              "      <td>en</td>\n",
              "      <td>01-07-2018 22:56</td>\n",
              "      <td>Twitter for iPhone</td>\n",
              "      <td>139</td>\n",
              "      <td>RT @miseleccionmxEN: Please welcome our newest...</td>\n",
              "      <td>Please welcome our newest member to the Incond...</td>\n",
              "      <td>0.0</td>\n",
              "      <td>780.0</td>\n",
              "      <td>NaN</td>\n",
              "      <td>Mexican National Team,Oprah Winfrey</td>\n",
              "      <td>miseleccionmxEN,Oprah</td>\n",
              "      <td>Veronica BP</td>\n",
              "      <td>NaN</td>\n",
              "      <td>172.0</td>\n",
              "      <td>292.0</td>\n",
              "    </tr>\n",
              "    <tr>\n",
              "      <th>21812</th>\n",
              "      <td>1.013560e+18</td>\n",
              "      <td>en</td>\n",
              "      <td>01-07-2018 22:56</td>\n",
              "      <td>Twitter for iPhone</td>\n",
              "      <td>140</td>\n",
              "      <td>RT @8Fact_Footballl: ?? Kasper Schmeichel vs C...</td>\n",
              "      <td>Kasper Schmeichel</td>\n",
              "      <td>NaN</td>\n",
              "      <td>NaN</td>\n",
              "      <td>NaN</td>\n",
              "      <td>NaN</td>\n",
              "      <td>NaN</td>\n",
              "      <td>NaN</td>\n",
              "      <td>NaN</td>\n",
              "      <td>NaN</td>\n",
              "      <td>NaN</td>\n",
              "    </tr>\n",
              "  </tbody>\n",
              "</table>\n",
              "</div>"
            ],
            "text/plain": [
              "                 ID lang              Date  ...    Place  Followers Friends\n",
              "21808  1.013560e+18   en  01-07-2018 22:56  ...   151115      354.0   201.0\n",
              "21809  1.013560e+18   en  01-07-2018 22:56  ...  Nairobi       64.0    62.0\n",
              "21810  1.013560e+18   en  01-07-2018 22:56  ...   Canada     5298.0  4802.0\n",
              "21811  1.013560e+18   en  01-07-2018 22:56  ...      NaN      172.0   292.0\n",
              "21812  1.013560e+18   en  01-07-2018 22:56  ...      NaN        NaN     NaN\n",
              "\n",
              "[5 rows x 16 columns]"
            ]
          },
          "metadata": {
            "tags": []
          },
          "execution_count": 13
        }
      ]
    },
    {
      "cell_type": "markdown",
      "metadata": {
        "id": "ZmmDESlhw70s",
        "colab_type": "text"
      },
      "source": [
        "Context:\n",
        "Main article: Russia 2018 FIFA World Cup bid\n",
        "\n",
        "Russian bid personnel celebrate the awarding of the 2018 World Cup to Russia on 2 December 2010.\n",
        "\n",
        "President Vladimir Putin holding the FIFA World Cup Trophy at a pre-tournament ceremony in Moscow on 9 September 2017\n",
        "\n",
        "The 100-ruble commemorative banknote celebrates the 2018 FIFA World Cup. It features an image of Soviet goalkeeper Lev Yashin.\n",
        "The bidding procedure to host the 2018 and 2022 FIFA World Cup tournaments began in January 2009, and national associations had until 2 February 2009 to register their interest.[7] Initially, nine countries placed bids for the 2018 FIFA World Cup, but Mexico later withdrew from proceedings,[8] and Indonesia's bid was rejected by FIFA in February 2010 after the Indonesian government failed to submit a letter to support the bid.[9] During the bidding process, the three remaining non-UEFA nations (Australia, Japan, and the United States) gradually withdrew from the 2018 bids, and the UEFA nations were thus ruled out of the 2022 bid. As such, there were eventually four bids for the 2018 FIFA World Cup, two of which were joint bids: England, Russia, Netherlands/Belgium, and Portugal/Spain.\n",
        "\n",
        "The 22-member FIFA Executive Committee convened in Zürich on 2 December 2010 to vote to select the hosts of both tournaments.[10] Russia won the right to be the 2018 host in the second round of voting. The Portugal/Spain bid came second, and that from Belgium/Netherlands third. England, which was bidding to host its second tournament, was eliminated in the first round.[11]\n",
        "\n",
        "The voting results were as follows:[12]"
      ]
    },
    {
      "cell_type": "markdown",
      "metadata": {
        "id": "LT5Q1kqpxONo",
        "colab_type": "text"
      },
      "source": [
        ""
      ]
    },
    {
      "cell_type": "markdown",
      "metadata": {
        "id": "hyB5DjB1xRNS",
        "colab_type": "text"
      },
      "source": [
        "Data:\n",
        "For the first time in the history of the FIFA World Cup, all eligible nations – the 209 FIFA member associations minus automatically qualified hosts Russia – applied to enter the qualifying process.[17] Zimbabwe and Indonesia were later disqualified before playing their first matches,[18][19] while Gibraltar and Kosovo, who joined FIFA on 13 May 2016 after the qualifying draw but before European qualifying had begun, also entered the competition.[20] Places in the tournament were allocated to continental confederations, with the allocation unchanged from the 2014 World Cup.[21][22] The first qualification game, between Timor-Leste and Mongolia, began in Dili on 12 March 2015 as part of the AFC's qualification,[23] and the main qualifying draw took place at the Konstantinovsky Palace in Strelna, Saint Petersburg, on 25 July 2015.[24][25][26][1]\n",
        "\n",
        "Of the 32 nations qualified to play at the 2018 FIFA World Cup, 20 countries competed at the previous tournament in 2014. Both Iceland and Panama qualified for the first time, with the former becoming the smallest country in terms of population to reach the World Cup.[27] Other teams returning after absences of at least three tournaments include: Egypt, returning to the finals after their last appearance in 1990; Morocco, who last competed in 1998; Peru, returning after 1982; and Senegal, competing for the second time after reaching the quarter-finals in 2002. It was the first time three Nordic countries (Denmark, Iceland and Sweden) and four Arab nations (Egypt, Morocco, Saudi Arabia and Tunisia) qualified for the World Cup.[28]\n",
        "\n",
        "Notable countries that failed to qualify included four-time champions Italy (for the first time since 1958), who were knocked out in a qualification play-off by quarter-finalists Sweden, three-time runners-up and third placed in 2014 the Netherlands (for the first time since 2002), and four reigning continental champions: 2017 Africa Cup of Nations winners Cameroon, two-time Copa América champions and 2017 Confederations Cup runners-up Chile, 2016 OFC Nations Cup winners New Zealand, and 2017 CONCACAF Gold Cup champions United States (for the first time since 1986). The other notable qualifying streaks broken were for Ghana and Ivory Coast, who had both made the previous three tournaments.[29]\n",
        "\n",
        "Note: Numbers in parentheses indicate positions in the FIFA World Rankings at the time of the tournament.[30]"
      ]
    },
    {
      "cell_type": "code",
      "metadata": {
        "id": "V7fTbZa8u18y",
        "colab_type": "code",
        "outputId": "e7454a30-afe0-427d-b9e2-a7d97a81a4e1",
        "colab": {
          "base_uri": "https://localhost:8080/",
          "height": 306
        }
      },
      "source": [
        "df.loc[5]"
      ],
      "execution_count": 0,
      "outputs": [
        {
          "output_type": "execute_result",
          "data": {
            "text/plain": [
              "ID                                                         1.0136e+18\n",
              "lang                                                               en\n",
              "Date                                                 02-07-2018 01:35\n",
              "Source                                            Twitter for Android\n",
              "len                                                               140\n",
              "Orig_Tweet          RT @FIFAWorldCup: \"We’re looking strong going ...\n",
              "Tweet               We re looking strong going into the knockout s...\n",
              "Likes                                                               0\n",
              "RTs                                                               153\n",
              "Hashtags                                                       BRAMEX\n",
              "UserMentionNames                FIFA World Cup ?,CBF Futebol,Casemiro\n",
              "UserMentionID                       FIFAWorldCup,CBF_Futebol,Casemiro\n",
              "Name                                                          Ligefut\n",
              "Place                                                             NaN\n",
              "Followers                                                          29\n",
              "Friends                                                           283\n",
              "Name: 5, dtype: object"
            ]
          },
          "metadata": {
            "tags": []
          },
          "execution_count": 14
        }
      ]
    },
    {
      "cell_type": "code",
      "metadata": {
        "id": "LNmUrmghu8ib",
        "colab_type": "code",
        "outputId": "92cdc0c8-1527-4f80-bfd5-d5446f8b0ee1",
        "colab": {
          "base_uri": "https://localhost:8080/",
          "height": 34
        }
      },
      "source": [
        "df.shape"
      ],
      "execution_count": 0,
      "outputs": [
        {
          "output_type": "execute_result",
          "data": {
            "text/plain": [
              "(21813, 16)"
            ]
          },
          "metadata": {
            "tags": []
          },
          "execution_count": 21
        }
      ]
    },
    {
      "cell_type": "code",
      "metadata": {
        "id": "2kvRDU6cvijx",
        "colab_type": "code",
        "outputId": "f360b1c3-f8e0-478a-ed8c-7be88fd3d0b7",
        "colab": {
          "base_uri": "https://localhost:8080/",
          "height": 34
        }
      },
      "source": [
        "df.size"
      ],
      "execution_count": 0,
      "outputs": [
        {
          "output_type": "execute_result",
          "data": {
            "text/plain": [
              "349008"
            ]
          },
          "metadata": {
            "tags": []
          },
          "execution_count": 22
        }
      ]
    },
    {
      "cell_type": "code",
      "metadata": {
        "id": "ki5CjzKjvlsK",
        "colab_type": "code",
        "outputId": "8b51188f-3845-40f3-c10f-d0750317423e",
        "colab": {
          "base_uri": "https://localhost:8080/",
          "height": 306
        }
      },
      "source": [
        "df.dtypes￼Untitled14.ipynb_\n",
        "File\n",
        "Edit\n",
        "View\n",
        "Insert\n",
        "Runtime\n",
        "Tools\n",
        "Help\n",
        "All changes saved\n",
        "Comment\n",
        "Share\n"
      ],
      "execution_count": 0,
      "outputs": [
        {
          "output_type": "execute_result",
          "data": {
            "text/plain": [
              "ID                  float64\n",
              "lang                 object\n",
              "Date                 object\n",
              "Source               object\n",
              "len                   int64\n",
              "Orig_Tweet           object\n",
              "Tweet                object\n",
              "Likes               float64\n",
              "RTs                 float64\n",
              "Hashtags             object\n",
              "UserMentionNames     object\n",
              "UserMentionID        object\n",
              "Name                 object\n",
              "Place                object\n",
              "Followers           float64\n",
              "Friends             float64\n",
              "dtype: object"
            ]
          },
          "metadata": {
            "tags": []
          },
          "execution_count": 23
        }
      ]
    },
    {
      "cell_type": "code",
      "metadata": {
        "id": "Y3MqujW5v1ME",
        "colab_type": "code",
        "outputId": "d696582a-7add-432d-a38c-05cce24440e3",
        "colab": {
          "base_uri": "https://localhost:8080/",
          "height": 1000
        }
      },
      "source": [
        "a=df.copy()\n",
        "a"
      ],
      "execution_count": 0,
      "outputs": [
        {
          "output_type": "execute_result",
          "data": {
            "text/html": [
              "<div>\n",
              "<style scoped>\n",
              "    .dataframe tbody tr th:only-of-type {\n",
              "        vertical-align: middle;\n",
              "    }\n",
              "\n",
              "    .dataframe tbody tr th {\n",
              "        vertical-align: top;\n",
              "    }\n",
              "\n",
              "    .dataframe thead th {\n",
              "        text-align: right;\n",
              "    }\n",
              "</style>\n",
              "<table border=\"1\" class=\"dataframe\">\n",
              "  <thead>\n",
              "    <tr style=\"text-align: right;\">\n",
              "      <th></th>\n",
              "      <th>ID</th>\n",
              "      <th>lang</th>\n",
              "      <th>Date</th>\n",
              "      <th>Source</th>\n",
              "      <th>len</th>\n",
              "      <th>Orig_Tweet</th>\n",
              "      <th>Tweet</th>\n",
              "      <th>Likes</th>\n",
              "      <th>RTs</th>\n",
              "      <th>Hashtags</th>\n",
              "      <th>UserMentionNames</th>\n",
              "      <th>UserMentionID</th>\n",
              "      <th>Name</th>\n",
              "      <th>Place</th>\n",
              "      <th>Followers</th>\n",
              "      <th>Friends</th>\n",
              "    </tr>\n",
              "  </thead>\n",
              "  <tbody>\n",
              "    <tr>\n",
              "      <th>0</th>\n",
              "      <td>1.013600e+18</td>\n",
              "      <td>en</td>\n",
              "      <td>02-07-2018 01:35</td>\n",
              "      <td>Twitter for Android</td>\n",
              "      <td>140</td>\n",
              "      <td>RT @Squawka: Only two goalkeepers have saved t...</td>\n",
              "      <td>Only two goalkeepers have saved three penaltie...</td>\n",
              "      <td>0.0</td>\n",
              "      <td>477.0</td>\n",
              "      <td>WorldCup,POR,ENG</td>\n",
              "      <td>Squawka Football</td>\n",
              "      <td>Squawka</td>\n",
              "      <td>Cayleb</td>\n",
              "      <td>Accra</td>\n",
              "      <td>861.0</td>\n",
              "      <td>828.0</td>\n",
              "    </tr>\n",
              "    <tr>\n",
              "      <th>1</th>\n",
              "      <td>1.013600e+18</td>\n",
              "      <td>en</td>\n",
              "      <td>02-07-2018 01:35</td>\n",
              "      <td>Twitter for Android</td>\n",
              "      <td>139</td>\n",
              "      <td>RT @FCBarcelona: ?? @ivanrakitic scores the wi...</td>\n",
              "      <td>scores the winning penalty to send into the qu...</td>\n",
              "      <td>0.0</td>\n",
              "      <td>1031.0</td>\n",
              "      <td>WorldCup</td>\n",
              "      <td>FC Barcelona,Ivan Rakitic,HNS | CFF</td>\n",
              "      <td>FCBarcelona,ivanrakitic,HNS_CFF</td>\n",
              "      <td>Febri Aditya</td>\n",
              "      <td>Bogor</td>\n",
              "      <td>667.0</td>\n",
              "      <td>686.0</td>\n",
              "    </tr>\n",
              "    <tr>\n",
              "      <th>2</th>\n",
              "      <td>1.013600e+18</td>\n",
              "      <td>en</td>\n",
              "      <td>02-07-2018 01:35</td>\n",
              "      <td>Twitter for Android</td>\n",
              "      <td>107</td>\n",
              "      <td>RT @javierfernandez: Tonight we have big game....</td>\n",
              "      <td>Tonight we have big game</td>\n",
              "      <td>0.0</td>\n",
              "      <td>488.0</td>\n",
              "      <td>worldcup</td>\n",
              "      <td>Javier Fernandez,Evgeni Plushenko</td>\n",
              "      <td>javierfernandez,EvgeniPlushenko</td>\n",
              "      <td>??</td>\n",
              "      <td>NaN</td>\n",
              "      <td>65.0</td>\n",
              "      <td>67.0</td>\n",
              "    </tr>\n",
              "    <tr>\n",
              "      <th>3</th>\n",
              "      <td>1.013600e+18</td>\n",
              "      <td>en</td>\n",
              "      <td>02-07-2018 01:35</td>\n",
              "      <td>Twitter Web Client</td>\n",
              "      <td>142</td>\n",
              "      <td>We get stronger\\r\\nTurn the music up now\\r\\nWe...</td>\n",
              "      <td>We get stronger Turn the music up now We got t...</td>\n",
              "      <td>0.0</td>\n",
              "      <td>0.0</td>\n",
              "      <td>PowerByEXO,WorldCup,FIFAStadiumDJ,XiuminLeague</td>\n",
              "      <td>EXO,FIFA World Cup ?</td>\n",
              "      <td>weareoneEXO,FIFAWorldCup</td>\n",
              "      <td>Frida Carrillo</td>\n",
              "      <td>Zapopan, Jalisco</td>\n",
              "      <td>17.0</td>\n",
              "      <td>89.0</td>\n",
              "    </tr>\n",
              "    <tr>\n",
              "      <th>4</th>\n",
              "      <td>1.013600e+18</td>\n",
              "      <td>en</td>\n",
              "      <td>02-07-2018 01:35</td>\n",
              "      <td>Twitter for Android</td>\n",
              "      <td>140</td>\n",
              "      <td>RT @Squawka: Only two goalkeepers have saved t...</td>\n",
              "      <td>Only two goalkeepers have saved three penaltie...</td>\n",
              "      <td>0.0</td>\n",
              "      <td>477.0</td>\n",
              "      <td>WorldCup,POR,ENG</td>\n",
              "      <td>Squawka Football</td>\n",
              "      <td>Squawka</td>\n",
              "      <td>tar</td>\n",
              "      <td>NaN</td>\n",
              "      <td>137.0</td>\n",
              "      <td>216.0</td>\n",
              "    </tr>\n",
              "    <tr>\n",
              "      <th>...</th>\n",
              "      <td>...</td>\n",
              "      <td>...</td>\n",
              "      <td>...</td>\n",
              "      <td>...</td>\n",
              "      <td>...</td>\n",
              "      <td>...</td>\n",
              "      <td>...</td>\n",
              "      <td>...</td>\n",
              "      <td>...</td>\n",
              "      <td>...</td>\n",
              "      <td>...</td>\n",
              "      <td>...</td>\n",
              "      <td>...</td>\n",
              "      <td>...</td>\n",
              "      <td>...</td>\n",
              "      <td>...</td>\n",
              "    </tr>\n",
              "    <tr>\n",
              "      <th>21808</th>\n",
              "      <td>1.013560e+18</td>\n",
              "      <td>en</td>\n",
              "      <td>01-07-2018 22:56</td>\n",
              "      <td>Twitter for iPhone</td>\n",
              "      <td>64</td>\n",
              "      <td>RT @MisterHeartz: GG GN and GL #WorldCup https...</td>\n",
              "      <td>GG GN and GL</td>\n",
              "      <td>0.0</td>\n",
              "      <td>4437.0</td>\n",
              "      <td>WorldCup</td>\n",
              "      <td>HRK800 Serial No. 191 919 199</td>\n",
              "      <td>MisterHeartz</td>\n",
              "      <td>?????????????????????</td>\n",
              "      <td>151115</td>\n",
              "      <td>354.0</td>\n",
              "      <td>201.0</td>\n",
              "    </tr>\n",
              "    <tr>\n",
              "      <th>21809</th>\n",
              "      <td>1.013560e+18</td>\n",
              "      <td>en</td>\n",
              "      <td>01-07-2018 22:56</td>\n",
              "      <td>Twitter for Android</td>\n",
              "      <td>116</td>\n",
              "      <td>RT @Alex_Houseof308: #FRAARG #WorldCup\\r\\nA sh...</td>\n",
              "      <td>short story involving Nigeria Argentina and Fr...</td>\n",
              "      <td>0.0</td>\n",
              "      <td>10987.0</td>\n",
              "      <td>FRAARG,WorldCup</td>\n",
              "      <td>Four-eyed Edo boy™</td>\n",
              "      <td>Alex_Houseof308</td>\n",
              "      <td>Jeriah Onsare</td>\n",
              "      <td>Nairobi</td>\n",
              "      <td>64.0</td>\n",
              "      <td>62.0</td>\n",
              "    </tr>\n",
              "    <tr>\n",
              "      <th>21810</th>\n",
              "      <td>1.013560e+18</td>\n",
              "      <td>en</td>\n",
              "      <td>01-07-2018 22:56</td>\n",
              "      <td>Twitter Web Client</td>\n",
              "      <td>140</td>\n",
              "      <td>RT @ShehabAgencyEn: ??#Palestine : The Palesti...</td>\n",
              "      <td>The Palestinian child Yasser Abu al Naja was k...</td>\n",
              "      <td>0.0</td>\n",
              "      <td>95.0</td>\n",
              "      <td>Palestine</td>\n",
              "      <td>Shehab News</td>\n",
              "      <td>ShehabAgencyEn</td>\n",
              "      <td>Arlene Adamo???</td>\n",
              "      <td>Canada</td>\n",
              "      <td>5298.0</td>\n",
              "      <td>4802.0</td>\n",
              "    </tr>\n",
              "    <tr>\n",
              "      <th>21811</th>\n",
              "      <td>1.013560e+18</td>\n",
              "      <td>en</td>\n",
              "      <td>01-07-2018 22:56</td>\n",
              "      <td>Twitter for iPhone</td>\n",
              "      <td>139</td>\n",
              "      <td>RT @miseleccionmxEN: Please welcome our newest...</td>\n",
              "      <td>Please welcome our newest member to the Incond...</td>\n",
              "      <td>0.0</td>\n",
              "      <td>780.0</td>\n",
              "      <td>NaN</td>\n",
              "      <td>Mexican National Team,Oprah Winfrey</td>\n",
              "      <td>miseleccionmxEN,Oprah</td>\n",
              "      <td>Veronica BP</td>\n",
              "      <td>NaN</td>\n",
              "      <td>172.0</td>\n",
              "      <td>292.0</td>\n",
              "    </tr>\n",
              "    <tr>\n",
              "      <th>21812</th>\n",
              "      <td>1.013560e+18</td>\n",
              "      <td>en</td>\n",
              "      <td>01-07-2018 22:56</td>\n",
              "      <td>Twitter for iPhone</td>\n",
              "      <td>140</td>\n",
              "      <td>RT @8Fact_Footballl: ?? Kasper Schmeichel vs C...</td>\n",
              "      <td>Kasper Schmeichel</td>\n",
              "      <td>NaN</td>\n",
              "      <td>NaN</td>\n",
              "      <td>NaN</td>\n",
              "      <td>NaN</td>\n",
              "      <td>NaN</td>\n",
              "      <td>NaN</td>\n",
              "      <td>NaN</td>\n",
              "      <td>NaN</td>\n",
              "      <td>NaN</td>\n",
              "    </tr>\n",
              "  </tbody>\n",
              "</table>\n",
              "<p>21813 rows × 16 columns</p>\n",
              "</div>"
            ],
            "text/plain": [
              "                 ID lang  ... Followers Friends\n",
              "0      1.013600e+18   en  ...     861.0   828.0\n",
              "1      1.013600e+18   en  ...     667.0   686.0\n",
              "2      1.013600e+18   en  ...      65.0    67.0\n",
              "3      1.013600e+18   en  ...      17.0    89.0\n",
              "4      1.013600e+18   en  ...     137.0   216.0\n",
              "...             ...  ...  ...       ...     ...\n",
              "21808  1.013560e+18   en  ...     354.0   201.0\n",
              "21809  1.013560e+18   en  ...      64.0    62.0\n",
              "21810  1.013560e+18   en  ...    5298.0  4802.0\n",
              "21811  1.013560e+18   en  ...     172.0   292.0\n",
              "21812  1.013560e+18   en  ...       NaN     NaN\n",
              "\n",
              "[21813 rows x 16 columns]"
            ]
          },
          "metadata": {
            "tags": []
          },
          "execution_count": 26
        }
      ]
    },
    {
      "cell_type": "code",
      "metadata": {
        "id": "AGLIozzExmkf",
        "colab_type": "code",
        "outputId": "bea741c5-23a5-49b8-cec2-bdeb1725e660",
        "colab": {
          "base_uri": "https://localhost:8080/",
          "height": 1000
        }
      },
      "source": [
        "df.append(a)"
      ],
      "execution_count": 0,
      "outputs": [
        {
          "output_type": "execute_result",
          "data": {
            "text/html": [
              "<div>\n",
              "<style scoped>\n",
              "    .dataframe tbody tr th:only-of-type {\n",
              "        vertical-align: middle;\n",
              "    }\n",
              "\n",
              "    .dataframe tbody tr th {\n",
              "        vertical-align: top;\n",
              "    }\n",
              "\n",
              "    .dataframe thead th {\n",
              "        text-align: right;\n",
              "    }\n",
              "</style>\n",
              "<table border=\"1\" class=\"dataframe\">\n",
              "  <thead>\n",
              "    <tr style=\"text-align: right;\">\n",
              "      <th></th>\n",
              "      <th>ID</th>\n",
              "      <th>lang</th>\n",
              "      <th>Date</th>\n",
              "      <th>Source</th>\n",
              "      <th>len</th>\n",
              "      <th>Orig_Tweet</th>\n",
              "      <th>Tweet</th>\n",
              "      <th>Likes</th>\n",
              "      <th>RTs</th>\n",
              "      <th>Hashtags</th>\n",
              "      <th>UserMentionNames</th>\n",
              "      <th>UserMentionID</th>\n",
              "      <th>Name</th>\n",
              "      <th>Place</th>\n",
              "      <th>Followers</th>\n",
              "      <th>Friends</th>\n",
              "    </tr>\n",
              "  </thead>\n",
              "  <tbody>\n",
              "    <tr>\n",
              "      <th>0</th>\n",
              "      <td>1.013600e+18</td>\n",
              "      <td>en</td>\n",
              "      <td>02-07-2018 01:35</td>\n",
              "      <td>Twitter for Android</td>\n",
              "      <td>140</td>\n",
              "      <td>RT @Squawka: Only two goalkeepers have saved t...</td>\n",
              "      <td>Only two goalkeepers have saved three penaltie...</td>\n",
              "      <td>0.0</td>\n",
              "      <td>477.0</td>\n",
              "      <td>WorldCup,POR,ENG</td>\n",
              "      <td>Squawka Football</td>\n",
              "      <td>Squawka</td>\n",
              "      <td>Cayleb</td>\n",
              "      <td>Accra</td>\n",
              "      <td>861.0</td>\n",
              "      <td>828.0</td>\n",
              "    </tr>\n",
              "    <tr>\n",
              "      <th>1</th>\n",
              "      <td>1.013600e+18</td>\n",
              "      <td>en</td>\n",
              "      <td>02-07-2018 01:35</td>\n",
              "      <td>Twitter for Android</td>\n",
              "      <td>139</td>\n",
              "      <td>RT @FCBarcelona: ?? @ivanrakitic scores the wi...</td>\n",
              "      <td>scores the winning penalty to send into the qu...</td>\n",
              "      <td>0.0</td>\n",
              "      <td>1031.0</td>\n",
              "      <td>WorldCup</td>\n",
              "      <td>FC Barcelona,Ivan Rakitic,HNS | CFF</td>\n",
              "      <td>FCBarcelona,ivanrakitic,HNS_CFF</td>\n",
              "      <td>Febri Aditya</td>\n",
              "      <td>Bogor</td>\n",
              "      <td>667.0</td>\n",
              "      <td>686.0</td>\n",
              "    </tr>\n",
              "    <tr>\n",
              "      <th>2</th>\n",
              "      <td>1.013600e+18</td>\n",
              "      <td>en</td>\n",
              "      <td>02-07-2018 01:35</td>\n",
              "      <td>Twitter for Android</td>\n",
              "      <td>107</td>\n",
              "      <td>RT @javierfernandez: Tonight we have big game....</td>\n",
              "      <td>Tonight we have big game</td>\n",
              "      <td>0.0</td>\n",
              "      <td>488.0</td>\n",
              "      <td>worldcup</td>\n",
              "      <td>Javier Fernandez,Evgeni Plushenko</td>\n",
              "      <td>javierfernandez,EvgeniPlushenko</td>\n",
              "      <td>??</td>\n",
              "      <td>NaN</td>\n",
              "      <td>65.0</td>\n",
              "      <td>67.0</td>\n",
              "    </tr>\n",
              "    <tr>\n",
              "      <th>3</th>\n",
              "      <td>1.013600e+18</td>\n",
              "      <td>en</td>\n",
              "      <td>02-07-2018 01:35</td>\n",
              "      <td>Twitter Web Client</td>\n",
              "      <td>142</td>\n",
              "      <td>We get stronger\\r\\nTurn the music up now\\r\\nWe...</td>\n",
              "      <td>We get stronger Turn the music up now We got t...</td>\n",
              "      <td>0.0</td>\n",
              "      <td>0.0</td>\n",
              "      <td>PowerByEXO,WorldCup,FIFAStadiumDJ,XiuminLeague</td>\n",
              "      <td>EXO,FIFA World Cup ?</td>\n",
              "      <td>weareoneEXO,FIFAWorldCup</td>\n",
              "      <td>Frida Carrillo</td>\n",
              "      <td>Zapopan, Jalisco</td>\n",
              "      <td>17.0</td>\n",
              "      <td>89.0</td>\n",
              "    </tr>\n",
              "    <tr>\n",
              "      <th>4</th>\n",
              "      <td>1.013600e+18</td>\n",
              "      <td>en</td>\n",
              "      <td>02-07-2018 01:35</td>\n",
              "      <td>Twitter for Android</td>\n",
              "      <td>140</td>\n",
              "      <td>RT @Squawka: Only two goalkeepers have saved t...</td>\n",
              "      <td>Only two goalkeepers have saved three penaltie...</td>\n",
              "      <td>0.0</td>\n",
              "      <td>477.0</td>\n",
              "      <td>WorldCup,POR,ENG</td>\n",
              "      <td>Squawka Football</td>\n",
              "      <td>Squawka</td>\n",
              "      <td>tar</td>\n",
              "      <td>NaN</td>\n",
              "      <td>137.0</td>\n",
              "      <td>216.0</td>\n",
              "    </tr>\n",
              "    <tr>\n",
              "      <th>...</th>\n",
              "      <td>...</td>\n",
              "      <td>...</td>\n",
              "      <td>...</td>\n",
              "      <td>...</td>\n",
              "      <td>...</td>\n",
              "      <td>...</td>\n",
              "      <td>...</td>\n",
              "      <td>...</td>\n",
              "      <td>...</td>\n",
              "      <td>...</td>\n",
              "      <td>...</td>\n",
              "      <td>...</td>\n",
              "      <td>...</td>\n",
              "      <td>...</td>\n",
              "      <td>...</td>\n",
              "      <td>...</td>\n",
              "    </tr>\n",
              "    <tr>\n",
              "      <th>21808</th>\n",
              "      <td>1.013560e+18</td>\n",
              "      <td>en</td>\n",
              "      <td>01-07-2018 22:56</td>\n",
              "      <td>Twitter for iPhone</td>\n",
              "      <td>64</td>\n",
              "      <td>RT @MisterHeartz: GG GN and GL #WorldCup https...</td>\n",
              "      <td>GG GN and GL</td>\n",
              "      <td>0.0</td>\n",
              "      <td>4437.0</td>\n",
              "      <td>WorldCup</td>\n",
              "      <td>HRK800 Serial No. 191 919 199</td>\n",
              "      <td>MisterHeartz</td>\n",
              "      <td>?????????????????????</td>\n",
              "      <td>151115</td>\n",
              "      <td>354.0</td>\n",
              "      <td>201.0</td>\n",
              "    </tr>\n",
              "    <tr>\n",
              "      <th>21809</th>\n",
              "      <td>1.013560e+18</td>\n",
              "      <td>en</td>\n",
              "      <td>01-07-2018 22:56</td>\n",
              "      <td>Twitter for Android</td>\n",
              "      <td>116</td>\n",
              "      <td>RT @Alex_Houseof308: #FRAARG #WorldCup\\r\\nA sh...</td>\n",
              "      <td>short story involving Nigeria Argentina and Fr...</td>\n",
              "      <td>0.0</td>\n",
              "      <td>10987.0</td>\n",
              "      <td>FRAARG,WorldCup</td>\n",
              "      <td>Four-eyed Edo boy™</td>\n",
              "      <td>Alex_Houseof308</td>\n",
              "      <td>Jeriah Onsare</td>\n",
              "      <td>Nairobi</td>\n",
              "      <td>64.0</td>\n",
              "      <td>62.0</td>\n",
              "    </tr>\n",
              "    <tr>\n",
              "      <th>21810</th>\n",
              "      <td>1.013560e+18</td>\n",
              "      <td>en</td>\n",
              "      <td>01-07-2018 22:56</td>\n",
              "      <td>Twitter Web Client</td>\n",
              "      <td>140</td>\n",
              "      <td>RT @ShehabAgencyEn: ??#Palestine : The Palesti...</td>\n",
              "      <td>The Palestinian child Yasser Abu al Naja was k...</td>\n",
              "      <td>0.0</td>\n",
              "      <td>95.0</td>\n",
              "      <td>Palestine</td>\n",
              "      <td>Shehab News</td>\n",
              "      <td>ShehabAgencyEn</td>\n",
              "      <td>Arlene Adamo???</td>\n",
              "      <td>Canada</td>\n",
              "      <td>5298.0</td>\n",
              "      <td>4802.0</td>\n",
              "    </tr>\n",
              "    <tr>\n",
              "      <th>21811</th>\n",
              "      <td>1.013560e+18</td>\n",
              "      <td>en</td>\n",
              "      <td>01-07-2018 22:56</td>\n",
              "      <td>Twitter for iPhone</td>\n",
              "      <td>139</td>\n",
              "      <td>RT @miseleccionmxEN: Please welcome our newest...</td>\n",
              "      <td>Please welcome our newest member to the Incond...</td>\n",
              "      <td>0.0</td>\n",
              "      <td>780.0</td>\n",
              "      <td>NaN</td>\n",
              "      <td>Mexican National Team,Oprah Winfrey</td>\n",
              "      <td>miseleccionmxEN,Oprah</td>\n",
              "      <td>Veronica BP</td>\n",
              "      <td>NaN</td>\n",
              "      <td>172.0</td>\n",
              "      <td>292.0</td>\n",
              "    </tr>\n",
              "    <tr>\n",
              "      <th>21812</th>\n",
              "      <td>1.013560e+18</td>\n",
              "      <td>en</td>\n",
              "      <td>01-07-2018 22:56</td>\n",
              "      <td>Twitter for iPhone</td>\n",
              "      <td>140</td>\n",
              "      <td>RT @8Fact_Footballl: ?? Kasper Schmeichel vs C...</td>\n",
              "      <td>Kasper Schmeichel</td>\n",
              "      <td>NaN</td>\n",
              "      <td>NaN</td>\n",
              "      <td>NaN</td>\n",
              "      <td>NaN</td>\n",
              "      <td>NaN</td>\n",
              "      <td>NaN</td>\n",
              "      <td>NaN</td>\n",
              "      <td>NaN</td>\n",
              "      <td>NaN</td>\n",
              "    </tr>\n",
              "  </tbody>\n",
              "</table>\n",
              "<p>43626 rows × 16 columns</p>\n",
              "</div>"
            ],
            "text/plain": [
              "                 ID lang  ... Followers Friends\n",
              "0      1.013600e+18   en  ...     861.0   828.0\n",
              "1      1.013600e+18   en  ...     667.0   686.0\n",
              "2      1.013600e+18   en  ...      65.0    67.0\n",
              "3      1.013600e+18   en  ...      17.0    89.0\n",
              "4      1.013600e+18   en  ...     137.0   216.0\n",
              "...             ...  ...  ...       ...     ...\n",
              "21808  1.013560e+18   en  ...     354.0   201.0\n",
              "21809  1.013560e+18   en  ...      64.0    62.0\n",
              "21810  1.013560e+18   en  ...    5298.0  4802.0\n",
              "21811  1.013560e+18   en  ...     172.0   292.0\n",
              "21812  1.013560e+18   en  ...       NaN     NaN\n",
              "\n",
              "[43626 rows x 16 columns]"
            ]
          },
          "metadata": {
            "tags": []
          },
          "execution_count": 27
        }
      ]
    },
    {
      "cell_type": "code",
      "metadata": {
        "id": "OWgXHpsJxvzi",
        "colab_type": "code",
        "outputId": "df1d43a6-99c4-4c4b-9bd1-d9424812aef6",
        "colab": {
          "base_uri": "https://localhost:8080/",
          "height": 374
        }
      },
      "source": [
        "df.info()"
      ],
      "execution_count": 0,
      "outputs": [
        {
          "output_type": "stream",
          "text": [
            "<class 'pandas.core.frame.DataFrame'>\n",
            "RangeIndex: 21813 entries, 0 to 21812\n",
            "Data columns (total 16 columns):\n",
            "ID                  21813 non-null float64\n",
            "lang                21813 non-null object\n",
            "Date                21813 non-null object\n",
            "Source              21813 non-null object\n",
            "len                 21813 non-null int64\n",
            "Orig_Tweet          21813 non-null object\n",
            "Tweet               21801 non-null object\n",
            "Likes               21812 non-null float64\n",
            "RTs                 21812 non-null float64\n",
            "Hashtags            18346 non-null object\n",
            "UserMentionNames    19932 non-null object\n",
            "UserMentionID       19932 non-null object\n",
            "Name                21809 non-null object\n",
            "Place               14947 non-null object\n",
            "Followers           21812 non-null float64\n",
            "Friends             21812 non-null float64\n",
            "dtypes: float64(5), int64(1), object(10)\n",
            "memory usage: 2.7+ MB\n"
          ],
          "name": "stdout"
        }
      ]
    },
    {
      "cell_type": "code",
      "metadata": {
        "id": "1Mkb7meqCzBx",
        "colab_type": "code",
        "colab": {}
      },
      "source": [
        ""
      ],
      "execution_count": 0,
      "outputs": []
    },
    {
      "cell_type": "code",
      "metadata": {
        "id": "yC12UQGYDBIg",
        "colab_type": "code",
        "colab": {}
      },
      "source": [
        ""
      ],
      "execution_count": 0,
      "outputs": []
    },
    {
      "cell_type": "code",
      "metadata": {
        "id": "G_Q5adn5B6tx",
        "colab_type": "code",
        "outputId": "cf6d3035-67f6-4823-b399-a486cc489e02",
        "colab": {
          "base_uri": "https://localhost:8080/",
          "height": 1000
        }
      },
      "source": [
        "df.fillna(0)"
      ],
      "execution_count": 0,
      "outputs": [
        {
          "output_type": "execute_result",
          "data": {
            "text/html": [
              "<div>\n",
              "<style scoped>\n",
              "    .dataframe tbody tr th:only-of-type {\n",
              "        vertical-align: middle;\n",
              "    }\n",
              "\n",
              "    .dataframe tbody tr th {\n",
              "        vertical-align: top;\n",
              "    }\n",
              "\n",
              "    .dataframe thead th {\n",
              "        text-align: right;\n",
              "    }\n",
              "</style>\n",
              "<table border=\"1\" class=\"dataframe\">\n",
              "  <thead>\n",
              "    <tr style=\"text-align: right;\">\n",
              "      <th></th>\n",
              "      <th>ID</th>\n",
              "      <th>lang</th>\n",
              "      <th>Date</th>\n",
              "      <th>Source</th>\n",
              "      <th>len</th>\n",
              "      <th>Orig_Tweet</th>\n",
              "      <th>Tweet</th>\n",
              "      <th>Likes</th>\n",
              "      <th>RTs</th>\n",
              "      <th>Hashtags</th>\n",
              "      <th>UserMentionNames</th>\n",
              "      <th>UserMentionID</th>\n",
              "      <th>Name</th>\n",
              "      <th>Place</th>\n",
              "      <th>Followers</th>\n",
              "      <th>Friends</th>\n",
              "    </tr>\n",
              "  </thead>\n",
              "  <tbody>\n",
              "    <tr>\n",
              "      <th>0</th>\n",
              "      <td>1.013600e+18</td>\n",
              "      <td>en</td>\n",
              "      <td>02-07-2018 01:35</td>\n",
              "      <td>Twitter for Android</td>\n",
              "      <td>140</td>\n",
              "      <td>RT @Squawka: Only two goalkeepers have saved t...</td>\n",
              "      <td>Only two goalkeepers have saved three penaltie...</td>\n",
              "      <td>0.0</td>\n",
              "      <td>477.0</td>\n",
              "      <td>WorldCup,POR,ENG</td>\n",
              "      <td>Squawka Football</td>\n",
              "      <td>Squawka</td>\n",
              "      <td>Cayleb</td>\n",
              "      <td>Accra</td>\n",
              "      <td>861.0</td>\n",
              "      <td>828.0</td>\n",
              "    </tr>\n",
              "    <tr>\n",
              "      <th>1</th>\n",
              "      <td>1.013600e+18</td>\n",
              "      <td>en</td>\n",
              "      <td>02-07-2018 01:35</td>\n",
              "      <td>Twitter for Android</td>\n",
              "      <td>139</td>\n",
              "      <td>RT @FCBarcelona: ?? @ivanrakitic scores the wi...</td>\n",
              "      <td>scores the winning penalty to send into the qu...</td>\n",
              "      <td>0.0</td>\n",
              "      <td>1031.0</td>\n",
              "      <td>WorldCup</td>\n",
              "      <td>FC Barcelona,Ivan Rakitic,HNS | CFF</td>\n",
              "      <td>FCBarcelona,ivanrakitic,HNS_CFF</td>\n",
              "      <td>Febri Aditya</td>\n",
              "      <td>Bogor</td>\n",
              "      <td>667.0</td>\n",
              "      <td>686.0</td>\n",
              "    </tr>\n",
              "    <tr>\n",
              "      <th>2</th>\n",
              "      <td>1.013600e+18</td>\n",
              "      <td>en</td>\n",
              "      <td>02-07-2018 01:35</td>\n",
              "      <td>Twitter for Android</td>\n",
              "      <td>107</td>\n",
              "      <td>RT @javierfernandez: Tonight we have big game....</td>\n",
              "      <td>Tonight we have big game</td>\n",
              "      <td>0.0</td>\n",
              "      <td>488.0</td>\n",
              "      <td>worldcup</td>\n",
              "      <td>Javier Fernandez,Evgeni Plushenko</td>\n",
              "      <td>javierfernandez,EvgeniPlushenko</td>\n",
              "      <td>??</td>\n",
              "      <td>0</td>\n",
              "      <td>65.0</td>\n",
              "      <td>67.0</td>\n",
              "    </tr>\n",
              "    <tr>\n",
              "      <th>3</th>\n",
              "      <td>1.013600e+18</td>\n",
              "      <td>en</td>\n",
              "      <td>02-07-2018 01:35</td>\n",
              "      <td>Twitter Web Client</td>\n",
              "      <td>142</td>\n",
              "      <td>We get stronger\\r\\nTurn the music up now\\r\\nWe...</td>\n",
              "      <td>We get stronger Turn the music up now We got t...</td>\n",
              "      <td>0.0</td>\n",
              "      <td>0.0</td>\n",
              "      <td>PowerByEXO,WorldCup,FIFAStadiumDJ,XiuminLeague</td>\n",
              "      <td>EXO,FIFA World Cup ?</td>\n",
              "      <td>weareoneEXO,FIFAWorldCup</td>\n",
              "      <td>Frida Carrillo</td>\n",
              "      <td>Zapopan, Jalisco</td>\n",
              "      <td>17.0</td>\n",
              "      <td>89.0</td>\n",
              "    </tr>\n",
              "    <tr>\n",
              "      <th>4</th>\n",
              "      <td>1.013600e+18</td>\n",
              "      <td>en</td>\n",
              "      <td>02-07-2018 01:35</td>\n",
              "      <td>Twitter for Android</td>\n",
              "      <td>140</td>\n",
              "      <td>RT @Squawka: Only two goalkeepers have saved t...</td>\n",
              "      <td>Only two goalkeepers have saved three penaltie...</td>\n",
              "      <td>0.0</td>\n",
              "      <td>477.0</td>\n",
              "      <td>WorldCup,POR,ENG</td>\n",
              "      <td>Squawka Football</td>\n",
              "      <td>Squawka</td>\n",
              "      <td>tar</td>\n",
              "      <td>0</td>\n",
              "      <td>137.0</td>\n",
              "      <td>216.0</td>\n",
              "    </tr>\n",
              "    <tr>\n",
              "      <th>...</th>\n",
              "      <td>...</td>\n",
              "      <td>...</td>\n",
              "      <td>...</td>\n",
              "      <td>...</td>\n",
              "      <td>...</td>\n",
              "      <td>...</td>\n",
              "      <td>...</td>\n",
              "      <td>...</td>\n",
              "      <td>...</td>\n",
              "      <td>...</td>\n",
              "      <td>...</td>\n",
              "      <td>...</td>\n",
              "      <td>...</td>\n",
              "      <td>...</td>\n",
              "      <td>...</td>\n",
              "      <td>...</td>\n",
              "    </tr>\n",
              "    <tr>\n",
              "      <th>21808</th>\n",
              "      <td>1.013560e+18</td>\n",
              "      <td>en</td>\n",
              "      <td>01-07-2018 22:56</td>\n",
              "      <td>Twitter for iPhone</td>\n",
              "      <td>64</td>\n",
              "      <td>RT @MisterHeartz: GG GN and GL #WorldCup https...</td>\n",
              "      <td>GG GN and GL</td>\n",
              "      <td>0.0</td>\n",
              "      <td>4437.0</td>\n",
              "      <td>WorldCup</td>\n",
              "      <td>HRK800 Serial No. 191 919 199</td>\n",
              "      <td>MisterHeartz</td>\n",
              "      <td>?????????????????????</td>\n",
              "      <td>151115</td>\n",
              "      <td>354.0</td>\n",
              "      <td>201.0</td>\n",
              "    </tr>\n",
              "    <tr>\n",
              "      <th>21809</th>\n",
              "      <td>1.013560e+18</td>\n",
              "      <td>en</td>\n",
              "      <td>01-07-2018 22:56</td>\n",
              "      <td>Twitter for Android</td>\n",
              "      <td>116</td>\n",
              "      <td>RT @Alex_Houseof308: #FRAARG #WorldCup\\r\\nA sh...</td>\n",
              "      <td>short story involving Nigeria Argentina and Fr...</td>\n",
              "      <td>0.0</td>\n",
              "      <td>10987.0</td>\n",
              "      <td>FRAARG,WorldCup</td>\n",
              "      <td>Four-eyed Edo boy™</td>\n",
              "      <td>Alex_Houseof308</td>\n",
              "      <td>Jeriah Onsare</td>\n",
              "      <td>Nairobi</td>\n",
              "      <td>64.0</td>\n",
              "      <td>62.0</td>\n",
              "    </tr>\n",
              "    <tr>\n",
              "      <th>21810</th>\n",
              "      <td>1.013560e+18</td>\n",
              "      <td>en</td>\n",
              "      <td>01-07-2018 22:56</td>\n",
              "      <td>Twitter Web Client</td>\n",
              "      <td>140</td>\n",
              "      <td>RT @ShehabAgencyEn: ??#Palestine : The Palesti...</td>\n",
              "      <td>The Palestinian child Yasser Abu al Naja was k...</td>\n",
              "      <td>0.0</td>\n",
              "      <td>95.0</td>\n",
              "      <td>Palestine</td>\n",
              "      <td>Shehab News</td>\n",
              "      <td>ShehabAgencyEn</td>\n",
              "      <td>Arlene Adamo???</td>\n",
              "      <td>Canada</td>\n",
              "      <td>5298.0</td>\n",
              "      <td>4802.0</td>\n",
              "    </tr>\n",
              "    <tr>\n",
              "      <th>21811</th>\n",
              "      <td>1.013560e+18</td>\n",
              "      <td>en</td>\n",
              "      <td>01-07-2018 22:56</td>\n",
              "      <td>Twitter for iPhone</td>\n",
              "      <td>139</td>\n",
              "      <td>RT @miseleccionmxEN: Please welcome our newest...</td>\n",
              "      <td>Please welcome our newest member to the Incond...</td>\n",
              "      <td>0.0</td>\n",
              "      <td>780.0</td>\n",
              "      <td>0</td>\n",
              "      <td>Mexican National Team,Oprah Winfrey</td>\n",
              "      <td>miseleccionmxEN,Oprah</td>\n",
              "      <td>Veronica BP</td>\n",
              "      <td>0</td>\n",
              "      <td>172.0</td>\n",
              "      <td>292.0</td>\n",
              "    </tr>\n",
              "    <tr>\n",
              "      <th>21812</th>\n",
              "      <td>1.013560e+18</td>\n",
              "      <td>en</td>\n",
              "      <td>01-07-2018 22:56</td>\n",
              "      <td>Twitter for iPhone</td>\n",
              "      <td>140</td>\n",
              "      <td>RT @8Fact_Footballl: ?? Kasper Schmeichel vs C...</td>\n",
              "      <td>Kasper Schmeichel</td>\n",
              "      <td>0.0</td>\n",
              "      <td>0.0</td>\n",
              "      <td>0</td>\n",
              "      <td>0</td>\n",
              "      <td>0</td>\n",
              "      <td>0</td>\n",
              "      <td>0</td>\n",
              "      <td>0.0</td>\n",
              "      <td>0.0</td>\n",
              "    </tr>\n",
              "  </tbody>\n",
              "</table>\n",
              "<p>21813 rows × 16 columns</p>\n",
              "</div>"
            ],
            "text/plain": [
              "                 ID lang  ... Followers Friends\n",
              "0      1.013600e+18   en  ...     861.0   828.0\n",
              "1      1.013600e+18   en  ...     667.0   686.0\n",
              "2      1.013600e+18   en  ...      65.0    67.0\n",
              "3      1.013600e+18   en  ...      17.0    89.0\n",
              "4      1.013600e+18   en  ...     137.0   216.0\n",
              "...             ...  ...  ...       ...     ...\n",
              "21808  1.013560e+18   en  ...     354.0   201.0\n",
              "21809  1.013560e+18   en  ...      64.0    62.0\n",
              "21810  1.013560e+18   en  ...    5298.0  4802.0\n",
              "21811  1.013560e+18   en  ...     172.0   292.0\n",
              "21812  1.013560e+18   en  ...       0.0     0.0\n",
              "\n",
              "[21813 rows x 16 columns]"
            ]
          },
          "metadata": {
            "tags": []
          },
          "execution_count": 70
        }
      ]
    },
    {
      "cell_type": "code",
      "metadata": {
        "id": "U_ApS-3Dx1fz",
        "colab_type": "code",
        "outputId": "0cb58fe1-308b-440b-92c2-527a5b56f25b",
        "colab": {
          "base_uri": "https://localhost:8080/",
          "height": 85
        }
      },
      "source": [
        "df.columns"
      ],
      "execution_count": 0,
      "outputs": [
        {
          "output_type": "execute_result",
          "data": {
            "text/plain": [
              "Index(['ID', 'lang', 'Date', 'Source', 'len', 'Orig_Tweet', 'Tweet', 'Likes',\n",
              "       'RTs', 'Hashtags', 'UserMentionNames', 'UserMentionID', 'Name', 'Place',\n",
              "       'Followers', 'Friends'],\n",
              "      dtype='object')"
            ]
          },
          "metadata": {
            "tags": []
          },
          "execution_count": 29
        }
      ]
    },
    {
      "cell_type": "code",
      "metadata": {
        "id": "wsJhRcnoykrM",
        "colab_type": "code",
        "outputId": "481e11f5-49be-4f4d-eebd-19e4ea66c837",
        "colab": {
          "base_uri": "https://localhost:8080/",
          "height": 221
        }
      },
      "source": [
        "mean=df.mean(axis=1)\n",
        "mean\n",
        "\n",
        "t pandas as pd\n",
        "df=pd.read_csv(\"/content/FIFAworldcup (1).csv\",index_col=0,na_values=[\"Nan\",'?','??','???'])\n",
        "print(df)\n",
        "df.info()"
      ],
      "execution_count": 0,
      "outputs": [
        {
          "output_type": "execute_result",
          "data": {
            "text/plain": [
              "0        1.689333e+17\n",
              "1        1.689333e+17\n",
              "2        1.689333e+17\n",
              "3        1.689333e+17\n",
              "4        1.689333e+17\n",
              "             ...     \n",
              "21808    1.689267e+17\n",
              "21809    1.689267e+17\n",
              "21810    1.689267e+17\n",
              "21811    1.689267e+17\n",
              "21812    5.067800e+17\n",
              "Length: 21813, dtype: float64"
            ]
          },
          "metadata": {
            "tags": []
          },
          "execution_count": 32
        }
      ]
    },
    {
      "cell_type": "code",
      "metadata": {
        "id": "0WQHxtTI3Tlz",
        "colab_type": "code",
        "outputId": "31bb42c9-96e3-4482-b0d4-eacc041ab22e",
        "colab": {
          "base_uri": "https://localhost:8080/",
          "height": 221
        }
      },
      "source": [
        "df.median(axis=1)"
      ],
      "execution_count": 0,
      "outputs": [
        {
          "output_type": "execute_result",
          "data": {
            "text/plain": [
              "0        6.525000e+02\n",
              "1        6.765000e+02\n",
              "2        8.700000e+01\n",
              "3        5.300000e+01\n",
              "4        1.780000e+02\n",
              "             ...     \n",
              "21808    2.775000e+02\n",
              "21809    9.000000e+01\n",
              "21810    2.471000e+03\n",
              "21811    2.320000e+02\n",
              "21812    5.067800e+17\n",
              "Length: 21813, dtype: float64"
            ]
          },
          "metadata": {
            "tags": []
          },
          "execution_count": 33
        }
      ]
    },
    {
      "cell_type": "code",
      "metadata": {
        "id": "_z2ncsQ23bmQ",
        "colab_type": "code",
        "outputId": "29aa0f7c-35cf-4d68-c4ed-bd9fed43af41",
        "colab": {
          "base_uri": "https://localhost:8080/",
          "height": 136
        }
      },
      "source": [
        "df.median(axis=0)"
      ],
      "execution_count": 0,
      "outputs": [
        {
          "output_type": "execute_result",
          "data": {
            "text/plain": [
              "ID           1.013580e+18\n",
              "len          1.350000e+02\n",
              "Likes        0.000000e+00\n",
              "RTs          1.880000e+02\n",
              "Followers    2.860000e+02\n",
              "Friends      3.450000e+02\n",
              "dtype: float64"
            ]
          },
          "metadata": {
            "tags": []
          },
          "execution_count": 35
        }
      ]
    },
    {
      "cell_type": "code",
      "metadata": {
        "id": "VPLa1zeO7rjM",
        "colab_type": "code",
        "outputId": "63a4d17a-1d5c-470c-ad08-843ce03a8973",
        "colab": {
          "base_uri": "https://localhost:8080/",
          "height": 297
        }
      },
      "source": [
        "import pandas as pd\n",
        "df.describe()"
      ],
      "execution_count": 0,
      "outputs": [
        {
          "output_type": "execute_result",
          "data": {
            "text/html": [
              "<div>\n",
              "<style scoped>\n",
              "    .dataframe tbody tr th:only-of-type {\n",
              "        vertical-align: middle;\n",
              "    }\n",
              "\n",
              "    .dataframe tbody tr th {\n",
              "        vertical-align: top;\n",
              "    }\n",
              "\n",
              "    .dataframe thead th {\n",
              "        text-align: right;\n",
              "    }\n",
              "</style>\n",
              "<table border=\"1\" class=\"dataframe\">\n",
              "  <thead>\n",
              "    <tr style=\"text-align: right;\">\n",
              "      <th></th>\n",
              "      <th>ID</th>\n",
              "      <th>len</th>\n",
              "      <th>Likes</th>\n",
              "      <th>RTs</th>\n",
              "      <th>Followers</th>\n",
              "      <th>Friends</th>\n",
              "    </tr>\n",
              "  </thead>\n",
              "  <tbody>\n",
              "    <tr>\n",
              "      <th>count</th>\n",
              "      <td>2.181300e+04</td>\n",
              "      <td>21813.000000</td>\n",
              "      <td>21812.000000</td>\n",
              "      <td>21812.000000</td>\n",
              "      <td>2.181200e+04</td>\n",
              "      <td>21812.000000</td>\n",
              "    </tr>\n",
              "    <tr>\n",
              "      <th>mean</th>\n",
              "      <td>1.013576e+18</td>\n",
              "      <td>122.030761</td>\n",
              "      <td>0.452503</td>\n",
              "      <td>1441.027920</td>\n",
              "      <td>1.019297e+04</td>\n",
              "      <td>1054.075050</td>\n",
              "    </tr>\n",
              "    <tr>\n",
              "      <th>std</th>\n",
              "      <td>1.193553e+13</td>\n",
              "      <td>36.633446</td>\n",
              "      <td>15.936008</td>\n",
              "      <td>2904.282068</td>\n",
              "      <td>2.911530e+05</td>\n",
              "      <td>3894.546329</td>\n",
              "    </tr>\n",
              "    <tr>\n",
              "      <th>min</th>\n",
              "      <td>1.013560e+18</td>\n",
              "      <td>16.000000</td>\n",
              "      <td>0.000000</td>\n",
              "      <td>0.000000</td>\n",
              "      <td>0.000000e+00</td>\n",
              "      <td>0.000000</td>\n",
              "    </tr>\n",
              "    <tr>\n",
              "      <th>25%</th>\n",
              "      <td>1.013570e+18</td>\n",
              "      <td>99.000000</td>\n",
              "      <td>0.000000</td>\n",
              "      <td>8.000000</td>\n",
              "      <td>8.600000e+01</td>\n",
              "      <td>146.000000</td>\n",
              "    </tr>\n",
              "    <tr>\n",
              "      <th>50%</th>\n",
              "      <td>1.013580e+18</td>\n",
              "      <td>135.000000</td>\n",
              "      <td>0.000000</td>\n",
              "      <td>188.000000</td>\n",
              "      <td>2.860000e+02</td>\n",
              "      <td>345.000000</td>\n",
              "    </tr>\n",
              "    <tr>\n",
              "      <th>75%</th>\n",
              "      <td>1.013590e+18</td>\n",
              "      <td>140.000000</td>\n",
              "      <td>0.000000</td>\n",
              "      <td>1031.000000</td>\n",
              "      <td>7.710000e+02</td>\n",
              "      <td>799.000000</td>\n",
              "    </tr>\n",
              "    <tr>\n",
              "      <th>max</th>\n",
              "      <td>1.013600e+18</td>\n",
              "      <td>455.000000</td>\n",
              "      <td>1778.000000</td>\n",
              "      <td>33612.000000</td>\n",
              "      <td>1.983790e+07</td>\n",
              "      <td>177363.000000</td>\n",
              "    </tr>\n",
              "  </tbody>\n",
              "</table>\n",
              "</div>"
            ],
            "text/plain": [
              "                 ID           len  ...     Followers        Friends\n",
              "count  2.181300e+04  21813.000000  ...  2.181200e+04   21812.000000\n",
              "mean   1.013576e+18    122.030761  ...  1.019297e+04    1054.075050\n",
              "std    1.193553e+13     36.633446  ...  2.911530e+05    3894.546329\n",
              "min    1.013560e+18     16.000000  ...  0.000000e+00       0.000000\n",
              "25%    1.013570e+18     99.000000  ...  8.600000e+01     146.000000\n",
              "50%    1.013580e+18    135.000000  ...  2.860000e+02     345.000000\n",
              "75%    1.013590e+18    140.000000  ...  7.710000e+02     799.000000\n",
              "max    1.013600e+18    455.000000  ...  1.983790e+07  177363.000000\n",
              "\n",
              "[8 rows x 6 columns]"
            ]
          },
          "metadata": {
            "tags": []
          },
          "execution_count": 51
        }
      ]
    },
    {
      "cell_type": "code",
      "metadata": {
        "id": "kILH8b289fQL",
        "colab_type": "code",
        "outputId": "0cc43d4b-e3b2-49f8-b229-99a6c39a4cf9",
        "colab": {
          "base_uri": "https://localhost:8080/",
          "height": 316
        }
      },
      "source": [
        "plt.hist(\"Aggresion\",data=df)"
      ],
      "execution_count": 0,
      "outputs": [
        {
          "output_type": "execute_result",
          "data": {
            "text/plain": [
              "(array([0., 0., 0., 0., 0., 1., 0., 0., 0., 0.]),\n",
              " array([-0.5, -0.4, -0.3, -0.2, -0.1,  0. ,  0.1,  0.2,  0.3,  0.4,  0.5]),\n",
              " <a list of 10 Patch objects>)"
            ]
          },
          "metadata": {
            "tags": []
          },
          "execution_count": 72
        },
        {
          "output_type": "display_data",
          "data": {
            "image/png": "[encoded data removed]",
            "text/plain": [
              "<Figure size 432x288 with 1 Axes>"
            ]
          },
          "metadata": {
            "tags": []
          }
        }
      ]
    },
    {
      "cell_type": "code",
      "metadata": {
        "id": "oR__eeud9xA8",
        "colab_type": "code",
        "outputId": "24a2bfd9-5b23-489f-ff89-4c3d4eb62f5c",
        "colab": {
          "base_uri": "https://localhost:8080/",
          "height": 296
        }
      },
      "source": [
        "sb.boxplot(df[\"ID\"])"
      ],
      "execution_count": 0,
      "outputs": [
        {
          "output_type": "execute_result",
          "data": {
            "text/plain": [
              "<matplotlib.axes._subplots.AxesSubplot at 0x7f48eeafc8d0>"
            ]
          },
          "metadata": {
            "tags": []
          },
          "execution_count": 73
        },
        {
          "output_type": "display_data",
          "data": {
            "image/png": "[encoded data removed]",
            "text/plain": [
              "<Figure size 432x288 with 1 Axes>"
            ]
          },
          "metadata": {
            "tags": []
          }
        }
      ]
    },
    {
      "cell_type": "code",
      "metadata": {
        "id": "SCmnzFKC-i7E",
        "colab_type": "code",
        "outputId": "14bf5991-fdef-4b2f-c05b-20cdf74954ae",
        "colab": {
          "base_uri": "https://localhost:8080/",
          "height": 436
        }
      },
      "source": [
        "plt.hist(\"aggregate_rating\",data=df,bins=50)"
      ],
      "execution_count": 0,
      "outputs": [
        {
          "output_type": "execute_result",
          "data": {
            "text/plain": [
              "(array([0., 0., 0., 0., 0., 0., 0., 0., 0., 0., 0., 0., 0., 0., 0., 0., 0.,\n",
              "        0., 0., 0., 0., 0., 0., 0., 0., 1., 0., 0., 0., 0., 0., 0., 0., 0.,\n",
              "        0., 0., 0., 0., 0., 0., 0., 0., 0., 0., 0., 0., 0., 0., 0., 0.]),\n",
              " array([-0.5 , -0.48, -0.46, -0.44, -0.42, -0.4 , -0.38, -0.36, -0.34,\n",
              "        -0.32, -0.3 , -0.28, -0.26, -0.24, -0.22, -0.2 , -0.18, -0.16,\n",
              "        -0.14, -0.12, -0.1 , -0.08, -0.06, -0.04, -0.02,  0.  ,  0.02,\n",
              "         0.04,  0.06,  0.08,  0.1 ,  0.12,  0.14,  0.16,  0.18,  0.2 ,\n",
              "         0.22,  0.24,  0.26,  0.28,  0.3 ,  0.32,  0.34,  0.36,  0.38,\n",
              "         0.4 ,  0.42,  0.44,  0.46,  0.48,  0.5 ]),\n",
              " <a list of 50 Patch objects>)"
            ]
          },
          "metadata": {
            "tags": []
          },
          "execution_count": 55
        },
        {
          "output_type": "display_data",
          "data": {
            "image/png": "[encoded data removed]",
            "text/plain": [
              "<Figure size 432x288 with 1 Axes>"
            ]
          },
          "metadata": {
            "tags": []
          }
        }
      ]
    },
    {
      "cell_type": "code",
      "metadata": {
        "id": "x1QEKNSH_N25",
        "colab_type": "code",
        "outputId": "b897806a-a482-49ea-b452-c0b418073e13",
        "colab": {
          "base_uri": "https://localhost:8080/",
          "height": 1000
        }
      },
      "source": [
        "sb.pairplot(df)"
      ],
      "execution_count": 0,
      "outputs": [
        {
          "output_type": "execute_result",
          "data": {
            "text/plain": [
              "<seaborn.axisgrid.PairGrid at 0x7f48efbe56a0>"
            ]
          },
          "metadata": {
            "tags": []
          },
          "execution_count": 74
        },
        {
          "output_type": "display_data",
          "data": {
            "image/png": "[encoded data removed]",
            "text/plain": [
              "<Figure size 1080x1080 with 42 Axes>"
            ]
          },
          "metadata": {
            "tags": []
          }
        }
      ]
    },
    {
      "cell_type": "code",
      "metadata": {
        "id": "ceFSrU7x_lRu",
        "colab_type": "code",
        "outputId": "b8a2315c-571f-4c5d-dda4-991eb69b5ff6",
        "colab": {
          "base_uri": "https://localhost:8080/",
          "height": 296
        }
      },
      "source": [
        "sb.distplot(df['Followers'])"
      ],
      "execution_count": 0,
      "outputs": [
        {
          "output_type": "execute_result",
          "data": {
            "text/plain": [
              "<matplotlib.axes._subplots.AxesSubplot at 0x7f48efd57d30>"
            ]
          },
          "metadata": {
            "tags": []
          },
          "execution_count": 63
        },
        {
          "output_type": "display_data",
          "data": {
            "image/png": "[encoded data removed]",
            "text/plain": [
              "<Figure size 432x288 with 1 Axes>"
            ]
          },
          "metadata": {
            "tags": []
          }
        }
      ]
    },
    {
      "cell_type": "markdown",
      "metadata": {
        "id": "M2kMYeA_E9-K",
        "colab_type": "text"
      },
      "source": [
        "Questions:\n",
        "1.How to find the first five rows of given data?  \n",
        "\n",
        "2.How to find the column of ID?\n",
        "\n",
        "3.How to find the graphs for given data?\n",
        "\n",
        "4.How to find the winner of the game?\n",
        "\n",
        "5.How to find the mode of given data?\n",
        "\n",
        "6.How to find the null values of given data?\n",
        "\n"
      ]
    },
    {
      "cell_type": "markdown",
      "metadata": {
        "id": "BbrT6lcQMuJm",
        "colab_type": "text"
      },
      "source": [
        ""
      ]
    },
    {
      "cell_type": "markdown",
      "metadata": {
        "id": "Hig1xOLfGv8y",
        "colab_type": "text"
      },
      "source": [
        ""
      ]
    },
    {
      "cell_type": "code",
      "metadata": {
        "id": "x7UwfTb1Ghg4",
        "colab_type": "code",
        "colab": {}
      },
      "source": [
        "Conclusion:\n",
        "By using this data we can find the first rows then we know the values of first five persons.\n",
        " From this data we can know that which team have won more number of times of the worldcup.\n",
        " By using this data we can also find the null values. And also find the values of\n",
        " some coloumns. Find the location of some  values. And also find the same values of coloumn.\n",
        "\n"
      ],
      "execution_count": 0,
      "outputs": []
    },
    {
      "cell_type": "markdown",
      "metadata": {
        "id": "JK1E8GL4Mfjk",
        "colab_type": "text"
      },
      "source": [
        ""
      ]
    }
  ]
}